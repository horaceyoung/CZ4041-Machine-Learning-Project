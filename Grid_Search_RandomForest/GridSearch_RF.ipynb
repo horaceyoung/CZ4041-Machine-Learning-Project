{
 "cells": [
  {
   "cell_type": "code",
   "execution_count": 1,
   "metadata": {
    "colab": {
     "base_uri": "https://localhost:8080/"
    },
    "executionInfo": {
     "elapsed": 26252,
     "status": "ok",
     "timestamp": 1617697024935,
     "user": {
      "displayName": "Clivian Li",
      "photoUrl": "",
      "userId": "07011166860670723255"
     },
     "user_tz": -480
    },
    "id": "VK6Js1BPR6qc",
    "outputId": "8e93f098-b020-4741-9446-d073c2e9084b"
   },
   "outputs": [],
   "source": [
    "# from google.colab import drive\n",
    "# drive.mount('/content/drive/')\n",
    "# import os\n",
    "# os.chdir('/content/drive/MyDrive')"
   ]
  },
  {
   "cell_type": "code",
   "execution_count": 2,
   "metadata": {
    "colab": {
     "base_uri": "https://localhost:8080/"
    },
    "executionInfo": {
     "elapsed": 26248,
     "status": "ok",
     "timestamp": 1617697024936,
     "user": {
      "displayName": "Clivian Li",
      "photoUrl": "",
      "userId": "07011166860670723255"
     },
     "user_tz": -480
    },
    "id": "iMw-db_dilDQ",
    "outputId": "fd068218-a472-484c-a9c7-b7b641111280"
   },
   "outputs": [],
   "source": [
    "# cd ColabNotebooks/"
   ]
  },
  {
   "cell_type": "code",
   "execution_count": 3,
   "metadata": {
    "colab": {
     "base_uri": "https://localhost:8080/"
    },
    "executionInfo": {
     "elapsed": 27362,
     "status": "ok",
     "timestamp": 1617697026055,
     "user": {
      "displayName": "Clivian Li",
      "photoUrl": "",
      "userId": "07011166860670723255"
     },
     "user_tz": -480
    },
    "id": "5_ipiZenipDb",
    "outputId": "bf331c13-e759-4a91-9f14-597e1be5a051"
   },
   "outputs": [],
   "source": [
    "# ls\n",
    "# print(np.expm1(np.log1p(15)))"
   ]
  },
  {
   "cell_type": "code",
   "execution_count": 4,
   "metadata": {
    "colab": {
     "base_uri": "https://localhost:8080/"
    },
    "executionInfo": {
     "elapsed": 35364,
     "status": "ok",
     "timestamp": 1617697034060,
     "user": {
      "displayName": "Clivian Li",
      "photoUrl": "",
      "userId": "07011166860670723255"
     },
     "user_tz": -480
    },
    "id": "2DkCsTLNg6zg",
    "outputId": "0a1c552b-a66e-40c2-dc6c-51be8d42943a"
   },
   "outputs": [
    {
     "name": "stdout",
     "output_type": "stream",
     "text": [
      "['material' 'product_type' 'indust_part'\n",
      " 'school_education_centers_top_20_raion' 'hospital_beds_raion'\n",
      " 'healthcare_centers_raion' 'university_top_20_raion'\n",
      " 'additional_education_raion' 'culture_objects_top_25'\n",
      " 'thermal_power_plant_raion' 'incineration_raion' 'oil_chemistry_raion'\n",
      " 'radiation_raion' 'railroad_terminal_raion' 'big_market_raion'\n",
      " 'nuclear_reactor_raion' 'detention_facility_raion' '16_29_male'\n",
      " 'build_count_block' 'build_count_frame' 'build_count_monolith'\n",
      " 'build_count_foam' 'build_count_before_1920' 'build_count_1971-1995'\n",
      " 'ID_metro' 'kindergarten_km' 'park_km' 'green_zone_km'\n",
      " 'ID_railroad_station_avto' 'public_transport_station_min_walk' 'water_km'\n",
      " 'water_1line' 'ID_big_road1' 'big_road1_1line' 'ID_big_road2'\n",
      " 'railroad_km' 'railroad_1line' 'ID_railroad_terminal' 'fitness_km'\n",
      " 'catering_km' 'green_part_500' 'prom_part_500' 'office_sqm_500'\n",
      " 'trc_count_500' 'trc_sqm_500' 'cafe_count_500_na_price'\n",
      " 'cafe_count_500_price_1000' 'cafe_count_500_price_4000'\n",
      " 'cafe_count_500_price_high' 'big_church_count_500' 'mosque_count_500'\n",
      " 'leisure_count_500' 'sport_count_500' 'market_count_500'\n",
      " 'office_sqm_1000' 'trc_sqm_1000' 'cafe_count_1000_price_high'\n",
      " 'mosque_count_1000' 'market_count_1000' 'mosque_count_1500'\n",
      " 'market_count_1500' 'trc_sqm_2000' 'mosque_count_2000'\n",
      " 'mosque_count_3000' 'mosque_count_5000' 'gdp_quart_growth'\n",
      " 'balance_trade_growth' 'net_capital_export' 'deposits_growth'\n",
      " 'mortgage_value' 'day_of_week' 'ratio_kitch_life' 'full_live_diff'\n",
      " 'floor_from_top' 'apartment_name']\n",
      "75\n"
     ]
    }
   ],
   "source": [
    "import warnings\n",
    "import os\n",
    "warnings.filterwarnings('ignore')\n",
    "import numpy as np\n",
    "import pandas as pd\n",
    "from datetime import datetime\n",
    "from sklearn.model_selection import GridSearchCV\n",
    "from sklearn.ensemble import RandomForestRegressor\n",
    "import pickle\n",
    "import joblib\n",
    "with open('remain_features.pkl', 'rb') as f:\n",
    "    features = pickle.load(f)\n",
    "    print(features)\n",
    "print(len(features))\n",
    "train_X = pd.read_csv('train_X.csv')\n",
    "train_X_selected = train_X[[c for c in train_X.columns if c in features]]"
   ]
  },
  {
   "cell_type": "code",
   "execution_count": 5,
   "metadata": {
    "id": "APutx21Ji0Ob"
   },
   "outputs": [],
   "source": [
    "# A parameter grid for RF\n",
    "# can add more range\n",
    "# params = {'n_estimators': [40, 80, 120, 160, 200],\n",
    "#                'max_depth': [25, 50, 75, 100, None],\n",
    "#                'min_samples_split': [2, 4, 6],\n",
    "#                'min_samples_leaf': [1, 2, 3],\n",
    "#                'max_features': [\"auto\", \"sqrt\", \"log2\"]}\n",
    "params = {'n_estimators': [120, 160, 200],\n",
    "               'max_depth': [50, 75, 100, None],\n",
    "               'min_samples_split': [2, 4, 6],\n",
    "               'min_samples_leaf': [1, 2, 3],\n",
    "               'max_features': [\"auto\", \"sqrt\"]}\n",
    "mult1 = 1.054\n",
    "mult2 = 1.032\n",
    "# params = {'n_estimators': [20, 40, 60],\n",
    "#                'max_depth': [20],\n",
    "#                'max_features': [\"auto\"]}"
   ]
  },
  {
   "cell_type": "code",
   "execution_count": 6,
   "metadata": {
    "colab": {
     "background_save": true,
     "base_uri": "https://localhost:8080/"
    },
    "id": "mp6GGHb_i0gD",
    "outputId": "9887b8b8-564a-4c31-e94b-69756007a048"
   },
   "outputs": [
    {
     "name": "stdout",
     "output_type": "stream",
     "text": [
      "Fitting 5 folds for each of 216 candidates, totalling 1080 fits\n"
     ]
    },
    {
     "name": "stderr",
     "output_type": "stream",
     "text": [
      "[Parallel(n_jobs=-1)]: Using backend LokyBackend with 12 concurrent workers.\n",
      "[Parallel(n_jobs=-1)]: Done  17 tasks      | elapsed: 29.5min\n",
      "[Parallel(n_jobs=-1)]: Done 138 tasks      | elapsed: 164.4min\n",
      "[Parallel(n_jobs=-1)]: Done 341 tasks      | elapsed: 279.2min\n",
      "[Parallel(n_jobs=-1)]: Done 624 tasks      | elapsed: 478.2min\n",
      "[Parallel(n_jobs=-1)]: Done 989 tasks      | elapsed: 718.8min\n",
      "[Parallel(n_jobs=-1)]: Done 1080 out of 1080 | elapsed: 726.2min finished\n"
     ]
    },
    {
     "name": "stdout",
     "output_type": "stream",
     "text": [
      "\n",
      " Best estimator:\n",
      "RandomForestRegressor(max_depth=75, max_features='sqrt', min_samples_leaf=3,\n",
      "                      n_estimators=200)\n",
      "\n",
      " Best score:\n",
      "0.3509400679477959\n",
      "\n",
      " Best parameters:\n",
      "{'max_depth': 75, 'max_features': 'sqrt', 'min_samples_leaf': 3, 'min_samples_split': 2, 'n_estimators': 200}\n",
      "Fitting 5 folds for each of 216 candidates, totalling 1080 fits\n"
     ]
    },
    {
     "name": "stderr",
     "output_type": "stream",
     "text": [
      "[Parallel(n_jobs=-1)]: Using backend LokyBackend with 12 concurrent workers.\n",
      "[Parallel(n_jobs=-1)]: Done  17 tasks      | elapsed: 32.4min\n",
      "[Parallel(n_jobs=-1)]: Done 138 tasks      | elapsed: 177.4min\n",
      "[Parallel(n_jobs=-1)]: Done 341 tasks      | elapsed: 298.4min\n",
      "[Parallel(n_jobs=-1)]: Done 624 tasks      | elapsed: 504.2min\n",
      "[Parallel(n_jobs=-1)]: Done 989 tasks      | elapsed: 743.4min\n",
      "[Parallel(n_jobs=-1)]: Done 1080 out of 1080 | elapsed: 750.1min finished\n"
     ]
    },
    {
     "name": "stdout",
     "output_type": "stream",
     "text": [
      "\n",
      " Best estimator:\n",
      "RandomForestRegressor(max_depth=50, max_features='sqrt', min_samples_leaf=3,\n",
      "                      min_samples_split=6, n_estimators=200)\n",
      "\n",
      " Best score:\n",
      "0.3506449297825884\n",
      "\n",
      " Best parameters:\n",
      "{'max_depth': 50, 'max_features': 'sqrt', 'min_samples_leaf': 3, 'min_samples_split': 6, 'n_estimators': 200}\n"
     ]
    }
   ],
   "source": [
    "for mult in [mult1, mult2]:\n",
    "    rfr = RandomForestRegressor()\n",
    "    train_y = pd.read_csv('train_y.csv')\n",
    "    train_y['0'] = np.log1p(np.expm1(train_y['0']) * mult)\n",
    "    \n",
    "    rfr_grid = GridSearchCV(rfr, params, cv = 5, n_jobs = -1, verbose=2)\n",
    "\n",
    "    rfr_grid.fit(train_X, train_y)\n",
    "\n",
    "    print('\\n Best estimator:')\n",
    "    print(rfr_grid.best_estimator_)\n",
    "    print('\\n Best score:')\n",
    "    print(rfr_grid.best_score_)\n",
    "    print('\\n Best parameters:')\n",
    "    print(rfr_grid.best_params_)\n",
    "\n",
    "    # save model\n",
    "    if not os.path.exists('cv_models'):\n",
    "        os.makedirs('cv_models')\n",
    "    joblib.dump(rfr_grid, 'cv_models/rfr_grid' + str(mult) + '.pkl')"
   ]
  },
  {
   "cell_type": "code",
   "execution_count": 7,
   "metadata": {
    "colab": {
     "base_uri": "https://localhost:8080/"
    },
    "executionInfo": {
     "elapsed": 39386,
     "status": "ok",
     "timestamp": 1617699027717,
     "user": {
      "displayName": "Clivian Li",
      "photoUrl": "",
      "userId": "07011166860670723255"
     },
     "user_tz": -480
    },
    "id": "u7-9CVybqP80",
    "outputId": "d104a1c1-04be-4410-9008-b6cb7577bbd2"
   },
   "outputs": [
    {
     "name": "stdout",
     "output_type": "stream",
     "text": [
      "Fitting 5 folds for each of 216 candidates, totalling 1080 fits\n"
     ]
    },
    {
     "name": "stderr",
     "output_type": "stream",
     "text": [
      "[Parallel(n_jobs=-1)]: Using backend LokyBackend with 12 concurrent workers.\n",
      "[Parallel(n_jobs=-1)]: Done  17 tasks      | elapsed:  3.7min\n",
      "[Parallel(n_jobs=-1)]: Done 138 tasks      | elapsed: 20.5min\n",
      "[Parallel(n_jobs=-1)]: Done 341 tasks      | elapsed: 35.6min\n",
      "[Parallel(n_jobs=-1)]: Done 624 tasks      | elapsed: 61.2min\n",
      "[Parallel(n_jobs=-1)]: Done 989 tasks      | elapsed: 93.0min\n",
      "[Parallel(n_jobs=-1)]: Done 1080 out of 1080 | elapsed: 94.7min finished\n"
     ]
    },
    {
     "name": "stdout",
     "output_type": "stream",
     "text": [
      "\n",
      " Best estimator:\n",
      "RandomForestRegressor(max_depth=100, min_samples_leaf=3, n_estimators=200)\n",
      "\n",
      " Best score:\n",
      "0.28453510876941046\n",
      "\n",
      " Best parameters:\n",
      "{'max_depth': 100, 'max_features': 'auto', 'min_samples_leaf': 3, 'min_samples_split': 2, 'n_estimators': 200}\n",
      "Fitting 5 folds for each of 216 candidates, totalling 1080 fits\n"
     ]
    },
    {
     "name": "stderr",
     "output_type": "stream",
     "text": [
      "[Parallel(n_jobs=-1)]: Using backend LokyBackend with 12 concurrent workers.\n",
      "[Parallel(n_jobs=-1)]: Done  17 tasks      | elapsed:  3.7min\n",
      "[Parallel(n_jobs=-1)]: Done 138 tasks      | elapsed: 21.0min\n",
      "[Parallel(n_jobs=-1)]: Done 341 tasks      | elapsed: 36.4min\n",
      "[Parallel(n_jobs=-1)]: Done 624 tasks      | elapsed: 62.4min\n",
      "[Parallel(n_jobs=-1)]: Done 989 tasks      | elapsed: 94.6min\n",
      "[Parallel(n_jobs=-1)]: Done 1080 out of 1080 | elapsed: 96.3min finished\n"
     ]
    },
    {
     "name": "stdout",
     "output_type": "stream",
     "text": [
      "\n",
      " Best estimator:\n",
      "RandomForestRegressor(max_depth=100, min_samples_leaf=3, n_estimators=200)\n",
      "\n",
      " Best score:\n",
      "0.2851724729146374\n",
      "\n",
      " Best parameters:\n",
      "{'max_depth': 100, 'max_features': 'auto', 'min_samples_leaf': 3, 'min_samples_split': 2, 'n_estimators': 200}\n"
     ]
    }
   ],
   "source": [
    "for mult in [mult1, mult2]:\n",
    "    rfr_selected = RandomForestRegressor()\n",
    "    train_y = pd.read_csv('train_y.csv')\n",
    "    train_y['0'] = np.log1p(np.expm1(train_y['0']) * mult)\n",
    "\n",
    "    rfr_grid_selected = GridSearchCV(rfr_selected, params, cv = 5, n_jobs = -1, verbose=2)\n",
    "\n",
    "    rfr_grid_selected.fit(train_X_selected, train_y)\n",
    "\n",
    "    print('\\n Best estimator:')\n",
    "    print(rfr_grid_selected.best_estimator_)\n",
    "    print('\\n Best score:')\n",
    "    print(rfr_grid_selected.best_score_)\n",
    "    print('\\n Best parameters:')\n",
    "    print(rfr_grid_selected.best_params_)\n",
    "\n",
    "    # save model\n",
    "    if not os.path.exists('cv_models'):\n",
    "        os.makedirs('cv_models')\n",
    "    joblib.dump(rfr_grid_selected, 'cv_models/rfr_grid_selected' + str(mult) + '.pkl')\n"
   ]
  },
  {
   "cell_type": "code",
   "execution_count": 8,
   "metadata": {
    "colab": {
     "background_save": true
    },
    "id": "UC-quv0VqspC"
   },
   "outputs": [
    {
     "name": "stdout",
     "output_type": "stream",
     "text": [
      "           0\n",
      "0  15.613451\n",
      "1  15.587476\n",
      "2  16.419622\n",
      "3  16.640102\n",
      "4  14.540157\n"
     ]
    },
    {
     "data": {
      "text/plain": [
       "RandomForestRegressor(max_depth=100, min_samples_leaf=3, min_samples_split=4,\n",
       "                      n_estimators=160)"
      ]
     },
     "execution_count": 8,
     "metadata": {},
     "output_type": "execute_result"
    }
   ],
   "source": [
    "rfr_grid = joblib.load('cv_models/rfr_grid.pkl')\n",
    "rfr_grid_selected = joblib.load('cv_models/rfr_grid_selected.pkl')\n",
    "\n",
    "rfr = RandomForestRegressor(**rfr_grid.best_params_)\n",
    "rfr_selected = RandomForestRegressor(**rfr_grid_selected.best_params_)\n",
    "\n",
    "print(train_y.head())\n",
    "\n",
    "train_y['0'] = train_y['0'] * mult\n",
    "\n",
    "rfr.fit(train_X, train_y)\n",
    "rfr_selected.fit(train_X_selected, train_y)"
   ]
  },
  {
   "cell_type": "code",
   "execution_count": 9,
   "metadata": {},
   "outputs": [
    {
     "name": "stdout",
     "output_type": "stream",
     "text": [
      "{'max_depth': 75, 'max_features': 'sqrt', 'min_samples_leaf': 3, 'min_samples_split': 4, 'n_estimators': 200}\n",
      "{'max_depth': 100, 'max_features': 'auto', 'min_samples_leaf': 3, 'min_samples_split': 4, 'n_estimators': 160}\n"
     ]
    }
   ],
   "source": [
    "print(rfr_grid.best_params_)\n",
    "print(rfr_grid_selected.best_params_)"
   ]
  },
  {
   "cell_type": "code",
   "execution_count": 15,
   "metadata": {},
   "outputs": [
    {
     "name": "stdout",
     "output_type": "stream",
     "text": [
      "{'max_depth': 75, 'max_features': 'sqrt', 'min_samples_leaf': 3, 'min_samples_split': 2, 'n_estimators': 200}\n",
      "{'max_depth': 100, 'max_features': 'auto', 'min_samples_leaf': 3, 'min_samples_split': 2, 'n_estimators': 200}\n",
      "{'max_depth': 50, 'max_features': 'sqrt', 'min_samples_leaf': 3, 'min_samples_split': 6, 'n_estimators': 200}\n",
      "{'max_depth': 100, 'max_features': 'auto', 'min_samples_leaf': 3, 'min_samples_split': 2, 'n_estimators': 200}\n"
     ]
    },
    {
     "data": {
      "text/plain": [
       "RandomForestRegressor(max_depth=100, min_samples_leaf=3, n_estimators=200)"
      ]
     },
     "execution_count": 15,
     "metadata": {},
     "output_type": "execute_result"
    }
   ],
   "source": [
    "rfr_grid_mult1 = joblib.load('cv_models/rfr_grid' + str(mult1) + '.pkl')\n",
    "rfr_grid_selected_mult1 = joblib.load('cv_models/rfr_grid_selected' + str(mult1) + '.pkl')\n",
    "rfr_grid_mult2 = joblib.load('cv_models/rfr_grid' + str(mult2) + '.pkl')\n",
    "rfr_grid_selected_mult2 = joblib.load('cv_models/rfr_grid_selected' + str(mult2) + '.pkl')\n",
    "grids = [rfr_grid_mult1, rfr_grid_selected_mult1, rfr_grid_mult2, rfr_grid_selected_mult2]\n",
    "for grid in grids:\n",
    "    print(grid.best_params_)\n",
    "    \n",
    "rfr_mult1 = RandomForestRegressor(**rfr_grid_mult1.best_params_)\n",
    "rfr_selected_mult1 = RandomForestRegressor(**rfr_grid_selected_mult2.best_params_)\n",
    "rfr_mult2 = RandomForestRegressor(**rfr_grid_mult2.best_params_)\n",
    "rfr_selected_mult2 = RandomForestRegressor(**rfr_grid_selected_mult2.best_params_)\n",
    "\n",
    "train_y = pd.read_csv('train_y.csv')\n",
    "train_y['0'] = np.log1p(np.expm1(train_y['0'])) * mult1\n",
    "rfr_mult1.fit(train_X, train_y)\n",
    "rfr_selected_mult1.fit(train_X_selected, train_y)\n",
    "\n",
    "train_y = pd.read_csv('train_y.csv')\n",
    "train_y['0'] = np.log1p(np.expm1(train_y['0'])) * mult2\n",
    "rfr_mult2.fit(train_X, train_y)\n",
    "rfr_selected_mult2.fit(train_X_selected, train_y)"
   ]
  },
  {
   "cell_type": "code",
   "execution_count": 16,
   "metadata": {},
   "outputs": [
    {
     "data": {
      "text/html": [
       "<div>\n",
       "<style scoped>\n",
       "    .dataframe tbody tr th:only-of-type {\n",
       "        vertical-align: middle;\n",
       "    }\n",
       "\n",
       "    .dataframe tbody tr th {\n",
       "        vertical-align: top;\n",
       "    }\n",
       "\n",
       "    .dataframe thead th {\n",
       "        text-align: right;\n",
       "    }\n",
       "</style>\n",
       "<table border=\"1\" class=\"dataframe\">\n",
       "  <thead>\n",
       "    <tr style=\"text-align: right;\">\n",
       "      <th></th>\n",
       "      <th>full_sq</th>\n",
       "      <th>life_sq</th>\n",
       "      <th>floor</th>\n",
       "      <th>max_floor</th>\n",
       "      <th>material</th>\n",
       "      <th>build_year</th>\n",
       "      <th>num_room</th>\n",
       "      <th>kitch_sq</th>\n",
       "      <th>state</th>\n",
       "      <th>product_type</th>\n",
       "      <th>...</th>\n",
       "      <th>week_of_year</th>\n",
       "      <th>day_of_week</th>\n",
       "      <th>ratio_life_full</th>\n",
       "      <th>ratio_kitch_life</th>\n",
       "      <th>ratio_kitch_full</th>\n",
       "      <th>full_live_diff</th>\n",
       "      <th>ratio_floor_max_floor</th>\n",
       "      <th>floor_from_top</th>\n",
       "      <th>age_of_building</th>\n",
       "      <th>apartment_name</th>\n",
       "    </tr>\n",
       "  </thead>\n",
       "  <tbody>\n",
       "    <tr>\n",
       "      <th>0</th>\n",
       "      <td>39.0</td>\n",
       "      <td>20.700</td>\n",
       "      <td>2.0</td>\n",
       "      <td>9.0</td>\n",
       "      <td>1.0</td>\n",
       "      <td>1998.0</td>\n",
       "      <td>1.0</td>\n",
       "      <td>8.9</td>\n",
       "      <td>3.0</td>\n",
       "      <td>0.0</td>\n",
       "      <td>...</td>\n",
       "      <td>27</td>\n",
       "      <td>2</td>\n",
       "      <td>0.530769</td>\n",
       "      <td>0.429952</td>\n",
       "      <td>0.228205</td>\n",
       "      <td>18.300</td>\n",
       "      <td>0.222222</td>\n",
       "      <td>7.0</td>\n",
       "      <td>17.000000</td>\n",
       "      <td>0</td>\n",
       "    </tr>\n",
       "    <tr>\n",
       "      <th>1</th>\n",
       "      <td>79.2</td>\n",
       "      <td>49.654</td>\n",
       "      <td>8.0</td>\n",
       "      <td>17.0</td>\n",
       "      <td>1.0</td>\n",
       "      <td>0.0</td>\n",
       "      <td>3.0</td>\n",
       "      <td>1.0</td>\n",
       "      <td>1.0</td>\n",
       "      <td>1.0</td>\n",
       "      <td>...</td>\n",
       "      <td>27</td>\n",
       "      <td>2</td>\n",
       "      <td>0.626944</td>\n",
       "      <td>0.020139</td>\n",
       "      <td>0.012626</td>\n",
       "      <td>29.546</td>\n",
       "      <td>0.470588</td>\n",
       "      <td>9.0</td>\n",
       "      <td>2015.000000</td>\n",
       "      <td>1</td>\n",
       "    </tr>\n",
       "    <tr>\n",
       "      <th>2</th>\n",
       "      <td>40.5</td>\n",
       "      <td>25.100</td>\n",
       "      <td>3.0</td>\n",
       "      <td>5.0</td>\n",
       "      <td>2.0</td>\n",
       "      <td>1960.0</td>\n",
       "      <td>2.0</td>\n",
       "      <td>4.8</td>\n",
       "      <td>2.0</td>\n",
       "      <td>0.0</td>\n",
       "      <td>...</td>\n",
       "      <td>27</td>\n",
       "      <td>2</td>\n",
       "      <td>0.619753</td>\n",
       "      <td>0.191235</td>\n",
       "      <td>0.118519</td>\n",
       "      <td>15.400</td>\n",
       "      <td>0.600000</td>\n",
       "      <td>2.0</td>\n",
       "      <td>55.000000</td>\n",
       "      <td>2</td>\n",
       "    </tr>\n",
       "    <tr>\n",
       "      <th>3</th>\n",
       "      <td>62.8</td>\n",
       "      <td>36.000</td>\n",
       "      <td>17.0</td>\n",
       "      <td>17.0</td>\n",
       "      <td>1.0</td>\n",
       "      <td>2016.0</td>\n",
       "      <td>2.0</td>\n",
       "      <td>62.8</td>\n",
       "      <td>3.0</td>\n",
       "      <td>1.0</td>\n",
       "      <td>...</td>\n",
       "      <td>27</td>\n",
       "      <td>2</td>\n",
       "      <td>0.573248</td>\n",
       "      <td>1.000000</td>\n",
       "      <td>1.000000</td>\n",
       "      <td>26.800</td>\n",
       "      <td>1.000000</td>\n",
       "      <td>0.0</td>\n",
       "      <td>-1053.057097</td>\n",
       "      <td>3</td>\n",
       "    </tr>\n",
       "    <tr>\n",
       "      <th>4</th>\n",
       "      <td>40.0</td>\n",
       "      <td>40.000</td>\n",
       "      <td>17.0</td>\n",
       "      <td>17.0</td>\n",
       "      <td>1.0</td>\n",
       "      <td>0.0</td>\n",
       "      <td>1.0</td>\n",
       "      <td>1.0</td>\n",
       "      <td>1.0</td>\n",
       "      <td>1.0</td>\n",
       "      <td>...</td>\n",
       "      <td>27</td>\n",
       "      <td>2</td>\n",
       "      <td>1.000000</td>\n",
       "      <td>0.025000</td>\n",
       "      <td>0.025000</td>\n",
       "      <td>0.000</td>\n",
       "      <td>1.000000</td>\n",
       "      <td>0.0</td>\n",
       "      <td>2015.000000</td>\n",
       "      <td>4</td>\n",
       "    </tr>\n",
       "  </tbody>\n",
       "</table>\n",
       "<p>5 rows × 404 columns</p>\n",
       "</div>"
      ],
      "text/plain": [
       "   full_sq  life_sq  floor  max_floor  material  build_year  num_room  \\\n",
       "0     39.0   20.700    2.0        9.0       1.0      1998.0       1.0   \n",
       "1     79.2   49.654    8.0       17.0       1.0         0.0       3.0   \n",
       "2     40.5   25.100    3.0        5.0       2.0      1960.0       2.0   \n",
       "3     62.8   36.000   17.0       17.0       1.0      2016.0       2.0   \n",
       "4     40.0   40.000   17.0       17.0       1.0         0.0       1.0   \n",
       "\n",
       "   kitch_sq  state  product_type  ...  week_of_year  day_of_week  \\\n",
       "0       8.9    3.0           0.0  ...            27            2   \n",
       "1       1.0    1.0           1.0  ...            27            2   \n",
       "2       4.8    2.0           0.0  ...            27            2   \n",
       "3      62.8    3.0           1.0  ...            27            2   \n",
       "4       1.0    1.0           1.0  ...            27            2   \n",
       "\n",
       "   ratio_life_full  ratio_kitch_life  ratio_kitch_full  full_live_diff  \\\n",
       "0         0.530769          0.429952          0.228205          18.300   \n",
       "1         0.626944          0.020139          0.012626          29.546   \n",
       "2         0.619753          0.191235          0.118519          15.400   \n",
       "3         0.573248          1.000000          1.000000          26.800   \n",
       "4         1.000000          0.025000          0.025000           0.000   \n",
       "\n",
       "   ratio_floor_max_floor  floor_from_top  age_of_building  apartment_name  \n",
       "0               0.222222             7.0        17.000000               0  \n",
       "1               0.470588             9.0      2015.000000               1  \n",
       "2               0.600000             2.0        55.000000               2  \n",
       "3               1.000000             0.0     -1053.057097               3  \n",
       "4               1.000000             0.0      2015.000000               4  \n",
       "\n",
       "[5 rows x 404 columns]"
      ]
     },
     "execution_count": 16,
     "metadata": {},
     "output_type": "execute_result"
    }
   ],
   "source": [
    "test_X = pd.read_csv('test_X_1_clean.csv')\n",
    "test_X.head()"
   ]
  },
  {
   "cell_type": "code",
   "execution_count": 18,
   "metadata": {},
   "outputs": [
    {
     "name": "stdout",
     "output_type": "stream",
     "text": [
      "[16.29397426 16.63823785 16.36656881 ... 16.38830089 16.29418557\n",
      " 16.60891574]\n",
      "[11922932.11713162 16822667.45224398 12820663.0689416  ...\n",
      " 13102332.29218438 11925451.83683449 16336553.16847947]\n",
      "\n",
      "[16.14613042 16.31177025 16.18113279 ... 16.1968174  16.24808098\n",
      " 16.69402152]\n",
      "[10284313.44438211 12137011.79825899 10650662.9585648  ...\n",
      " 10819031.44799585 11388115.72435022 17787765.74098645]\n",
      "\n",
      "[16.00486734 16.27458328 15.95578979 ... 16.0200932  15.99586267\n",
      " 16.36301992]\n",
      "[ 8929466.64222829 11693961.90705647  8501810.31038126 ...\n",
      "  9066465.83648676  8849420.68556962 12775244.63185271]\n",
      "\n",
      "[15.83570828 15.96440969 15.84334768 ... 15.78426204 15.92169625\n",
      " 16.34829602]\n",
      "[ 7539814.56632537  8575411.76257107  7597634.83724612 ...\n",
      "  7161728.34778503  8216838.8426927  12588521.22154802]\n",
      "\n"
     ]
    }
   ],
   "source": [
    "test_X_selected = test_X[[c for c in train_X.columns if c in features]]\n",
    "models = [rfr_mult1, rfr_selected_mult1, rfr_mult2, rfr_selected_mult2]\n",
    "for i in range(0, len(models)):\n",
    "    model = models[i]\n",
    "    if i == 0 or i == 2:\n",
    "        predict = model.predict(test_X)\n",
    "    elif i == 1 or i == 3:\n",
    "        predict = model.predict(test_X_selected)\n",
    "    print(predict)\n",
    "    predict = np.expm1(predict)\n",
    "    print(predict)\n",
    "    print()\n",
    "    id = np.arange(30474,38136,1)\n",
    "    id.reshape(1,7662)\n",
    "    submission = np.column_stack((id, predict))\n",
    "    df = pd.DataFrame(data=submission, columns=[\"id\", \"price_doc\"])\n",
    "    df['id'] = df['id'].astype('int64')\n",
    "    if not os.path.exists('predict'):\n",
    "        os.makedirs('predict')\n",
    "        df.to_csv('predict/rf_predict_m_' + str(i) + '.csv', index=False)\n",
    "    "
   ]
  },
  {
   "cell_type": "code",
   "execution_count": null,
   "metadata": {},
   "outputs": [],
   "source": [
    "print(test_X.shape[0])\n",
    "test_X_selected = test_X[[c for c in train_X.columns if c in features]]\n",
    "predict = rfr.predict(test_X)\n",
    "predict_selected = rfr_selected.predict(test_X_selected)\n",
    "print(predict)\n",
    "print(predict_selected)\n",
    "predict = np.expm1(predict)\n",
    "predict_selected = np.expm1(predict_selected)\n",
    "print(predict.shape)\n",
    "print(predict_selected.shape)\n",
    "id = np.arange(30474,38136,1)\n",
    "id.reshape(1,7662)\n",
    "submission = np.column_stack((id, predict))\n",
    "submission_selected = np.column_stack((id, predict_selected))"
   ]
  },
  {
   "cell_type": "code",
   "execution_count": null,
   "metadata": {},
   "outputs": [],
   "source": [
    "print(submission)\n",
    "print(submission_selected)\n",
    "df = pd.DataFrame(data=submission, columns=[\"id\", \"price_doc\"])\n",
    "df['id'] = df['id'].astype('int64')\n",
    "df.head()"
   ]
  },
  {
   "cell_type": "code",
   "execution_count": null,
   "metadata": {},
   "outputs": [],
   "source": [
    "df_selected = pd.DataFrame(data=submission_selected, columns=[\"id\", \"price_doc\"])\n",
    "df_selected['id'] = df_selected['id'].astype('int64')\n",
    "df_selected.head()"
   ]
  },
  {
   "cell_type": "code",
   "execution_count": null,
   "metadata": {},
   "outputs": [],
   "source": [
    "if not os.path.exists('predict'):\n",
    "    os.makedirs('predict')\n",
    "df.to_csv('predict/rf_predict_m.csv', index=False)\n",
    "df_selected.to_csv('predict/rf_selected_predict_m.csv', index=False)"
   ]
  }
 ],
 "metadata": {
  "accelerator": "GPU",
  "colab": {
   "authorship_tag": "ABX9TyM/UxDfa6omLTWZbOdg7Bpq",
   "collapsed_sections": [],
   "name": "GridSearch_RF.ipynb",
   "version": ""
  },
  "kernelspec": {
   "display_name": "Python 3",
   "language": "python",
   "name": "python3"
  },
  "language_info": {
   "codemirror_mode": {
    "name": "ipython",
    "version": 3
   },
   "file_extension": ".py",
   "mimetype": "text/x-python",
   "name": "python",
   "nbconvert_exporter": "python",
   "pygments_lexer": "ipython3",
   "version": "3.8.3"
  }
 },
 "nbformat": 4,
 "nbformat_minor": 1
}
