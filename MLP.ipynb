{
  "nbformat": 4,
  "nbformat_minor": 0,
  "metadata": {
    "colab": {
      "name": "MLP.ipynb",
      "provenance": [],
      "collapsed_sections": [
        "qmJcSyhjPOaP"
      ]
    },
    "kernelspec": {
      "name": "python3",
      "display_name": "Python 3"
    },
    "language_info": {
      "name": "python"
    }
  },
  "cells": [
    {
      "cell_type": "code",
      "metadata": {
        "colab": {
          "base_uri": "https://localhost:8080/"
        },
        "id": "c1pdcJViKc6-",
        "outputId": "328a48c3-e062-4915-cc84-a95271ef7747"
      },
      "source": [
        "from google.colab import drive\n",
        "drive.mount('/content/drive/')\n",
        "\n",
        "import os\n",
        "os.chdir('/content/drive/MyDrive')\n",
        "!ls"
      ],
      "execution_count": null,
      "outputs": [
        {
          "output_type": "stream",
          "text": [
            "Mounted at /content/drive/\n",
            "'4032 DBSystem Proj1'\t     'Grp Project Report.gdoc'\n",
            " 4041ML\t\t\t     'Jinling High School Certificate.pdf'\n",
            "'Colab Notebooks'\t      NLP-Assignment.gdoc\n",
            "'CZ4031 P2 Report.gdoc'      'Zhang Yuehan 2.1.pdf'\n",
            "'Degree Audit Yr4 S1.pdf'    'Zhang Yuehan护照.pdf'\n",
            "'Final Project Report.gdoc'\n"
          ],
          "name": "stdout"
        }
      ]
    },
    {
      "cell_type": "code",
      "metadata": {
        "colab": {
          "base_uri": "https://localhost:8080/"
        },
        "id": "aLQyT-YRL8vN",
        "outputId": "fa4b0f7b-082b-4511-fc6b-37db4988a317"
      },
      "source": [
        "cd 4041ML/output/feature_eng_final"
      ],
      "execution_count": null,
      "outputs": [
        {
          "output_type": "stream",
          "text": [
            "/content/drive/MyDrive/4041ML/output/feature_eng_final\n"
          ],
          "name": "stdout"
        }
      ]
    },
    {
      "cell_type": "code",
      "metadata": {
        "id": "GkTPyzjDMZxL"
      },
      "source": [
        "import numpy as np\n",
        "import pandas as pd"
      ],
      "execution_count": null,
      "outputs": []
    },
    {
      "cell_type": "markdown",
      "metadata": {
        "id": "qmJcSyhjPOaP"
      },
      "source": [
        "## Data"
      ]
    },
    {
      "cell_type": "code",
      "metadata": {
        "id": "bcADu8RMMBML"
      },
      "source": [
        "train_X = pd.read_csv('train_X.csv')\n",
        "train_y = pd.read_csv('train_y.csv')"
      ],
      "execution_count": null,
      "outputs": []
    },
    {
      "cell_type": "code",
      "metadata": {
        "colab": {
          "base_uri": "https://localhost:8080/",
          "height": 244
        },
        "id": "RVdeLSQ-PDQo",
        "outputId": "f6149bcb-5723-44d8-b873-21b99429469b"
      },
      "source": [
        "train_X.head()"
      ],
      "execution_count": null,
      "outputs": [
        {
          "output_type": "execute_result",
          "data": {
            "text/html": [
              "<div>\n",
              "<style scoped>\n",
              "    .dataframe tbody tr th:only-of-type {\n",
              "        vertical-align: middle;\n",
              "    }\n",
              "\n",
              "    .dataframe tbody tr th {\n",
              "        vertical-align: top;\n",
              "    }\n",
              "\n",
              "    .dataframe thead th {\n",
              "        text-align: right;\n",
              "    }\n",
              "</style>\n",
              "<table border=\"1\" class=\"dataframe\">\n",
              "  <thead>\n",
              "    <tr style=\"text-align: right;\">\n",
              "      <th></th>\n",
              "      <th>full_sq</th>\n",
              "      <th>life_sq</th>\n",
              "      <th>floor</th>\n",
              "      <th>max_floor</th>\n",
              "      <th>material</th>\n",
              "      <th>build_year</th>\n",
              "      <th>num_room</th>\n",
              "      <th>kitch_sq</th>\n",
              "      <th>state</th>\n",
              "      <th>product_type</th>\n",
              "      <th>sub_area</th>\n",
              "      <th>area_m</th>\n",
              "      <th>raion_popul</th>\n",
              "      <th>green_zone_part</th>\n",
              "      <th>indust_part</th>\n",
              "      <th>children_preschool</th>\n",
              "      <th>preschool_quota</th>\n",
              "      <th>preschool_education_centers_raion</th>\n",
              "      <th>children_school</th>\n",
              "      <th>school_quota</th>\n",
              "      <th>school_education_centers_raion</th>\n",
              "      <th>school_education_centers_top_20_raion</th>\n",
              "      <th>hospital_beds_raion</th>\n",
              "      <th>healthcare_centers_raion</th>\n",
              "      <th>university_top_20_raion</th>\n",
              "      <th>sport_objects_raion</th>\n",
              "      <th>additional_education_raion</th>\n",
              "      <th>culture_objects_top_25</th>\n",
              "      <th>culture_objects_top_25_raion</th>\n",
              "      <th>shopping_centers_raion</th>\n",
              "      <th>office_raion</th>\n",
              "      <th>thermal_power_plant_raion</th>\n",
              "      <th>incineration_raion</th>\n",
              "      <th>oil_chemistry_raion</th>\n",
              "      <th>radiation_raion</th>\n",
              "      <th>railroad_terminal_raion</th>\n",
              "      <th>big_market_raion</th>\n",
              "      <th>nuclear_reactor_raion</th>\n",
              "      <th>detention_facility_raion</th>\n",
              "      <th>full_all</th>\n",
              "      <th>...</th>\n",
              "      <th>rent_price_3room_eco</th>\n",
              "      <th>rent_price_2room_eco</th>\n",
              "      <th>rent_price_1room_eco</th>\n",
              "      <th>load_of_teachers_preschool_per_teacher</th>\n",
              "      <th>child_on_acc_pre_school</th>\n",
              "      <th>load_of_teachers_school_per_teacher</th>\n",
              "      <th>students_state_oneshift</th>\n",
              "      <th>modern_education_share</th>\n",
              "      <th>old_education_build_share</th>\n",
              "      <th>provision_doctors</th>\n",
              "      <th>provision_nurse</th>\n",
              "      <th>load_on_doctors</th>\n",
              "      <th>power_clinics</th>\n",
              "      <th>hospital_beds_available_per_cap</th>\n",
              "      <th>hospital_bed_occupancy_per_year</th>\n",
              "      <th>provision_retail_space_sqm</th>\n",
              "      <th>provision_retail_space_modern_sqm</th>\n",
              "      <th>turnover_catering_per_cap</th>\n",
              "      <th>theaters_viewers_per_1000_cap</th>\n",
              "      <th>seats_theather_rfmin_per_100000_cap</th>\n",
              "      <th>museum_visitis_per_100_cap</th>\n",
              "      <th>bandwidth_sports</th>\n",
              "      <th>population_reg_sports_share</th>\n",
              "      <th>students_reg_sports_share</th>\n",
              "      <th>apartment_build</th>\n",
              "      <th>apartment_fund_sqm</th>\n",
              "      <th>yearmonth</th>\n",
              "      <th>yearweek</th>\n",
              "      <th>year</th>\n",
              "      <th>month_of_year</th>\n",
              "      <th>week_of_year</th>\n",
              "      <th>day_of_week</th>\n",
              "      <th>ratio_life_full</th>\n",
              "      <th>ratio_kitch_life</th>\n",
              "      <th>ratio_kitch_full</th>\n",
              "      <th>full_live_diff</th>\n",
              "      <th>ratio_floor_max_floor</th>\n",
              "      <th>floor_from_top</th>\n",
              "      <th>age_of_building</th>\n",
              "      <th>apartment_name</th>\n",
              "    </tr>\n",
              "  </thead>\n",
              "  <tbody>\n",
              "    <tr>\n",
              "      <th>0</th>\n",
              "      <td>43.0</td>\n",
              "      <td>27.0</td>\n",
              "      <td>4.0</td>\n",
              "      <td>13.0</td>\n",
              "      <td>2.6</td>\n",
              "      <td>1975.6</td>\n",
              "      <td>1.0</td>\n",
              "      <td>7.2</td>\n",
              "      <td>2.2</td>\n",
              "      <td>0.0</td>\n",
              "      <td>9.0</td>\n",
              "      <td>6.407578e+06</td>\n",
              "      <td>155572.0</td>\n",
              "      <td>0.189727</td>\n",
              "      <td>0.000070</td>\n",
              "      <td>9576.0</td>\n",
              "      <td>5001.0</td>\n",
              "      <td>5.0</td>\n",
              "      <td>10309.0</td>\n",
              "      <td>11065.0</td>\n",
              "      <td>5.0</td>\n",
              "      <td>0.0</td>\n",
              "      <td>240.0</td>\n",
              "      <td>1.0</td>\n",
              "      <td>0.0</td>\n",
              "      <td>7.0</td>\n",
              "      <td>3.0</td>\n",
              "      <td>0.0</td>\n",
              "      <td>0.0</td>\n",
              "      <td>16.0</td>\n",
              "      <td>1.0</td>\n",
              "      <td>0.0</td>\n",
              "      <td>0.0</td>\n",
              "      <td>0.0</td>\n",
              "      <td>0.0</td>\n",
              "      <td>0.0</td>\n",
              "      <td>0.0</td>\n",
              "      <td>0.0</td>\n",
              "      <td>0.0</td>\n",
              "      <td>86206.0</td>\n",
              "      <td>...</td>\n",
              "      <td>41.80</td>\n",
              "      <td>36.77</td>\n",
              "      <td>29.07</td>\n",
              "      <td>793.319561</td>\n",
              "      <td>0.0</td>\n",
              "      <td>1391.710938</td>\n",
              "      <td>89.0495</td>\n",
              "      <td>3.0</td>\n",
              "      <td>3.0</td>\n",
              "      <td>65.9</td>\n",
              "      <td>99.6</td>\n",
              "      <td>8180.755454</td>\n",
              "      <td>375.8</td>\n",
              "      <td>846.0</td>\n",
              "      <td>302.0</td>\n",
              "      <td>741.0</td>\n",
              "      <td>271.0</td>\n",
              "      <td>6943.0</td>\n",
              "      <td>565.0</td>\n",
              "      <td>0.45356</td>\n",
              "      <td>1240.0</td>\n",
              "      <td>269768.0</td>\n",
              "      <td>22.37</td>\n",
              "      <td>64.12</td>\n",
              "      <td>23587.0</td>\n",
              "      <td>230310.0</td>\n",
              "      <td>201108</td>\n",
              "      <td>201133</td>\n",
              "      <td>2011</td>\n",
              "      <td>8</td>\n",
              "      <td>33</td>\n",
              "      <td>5</td>\n",
              "      <td>0.627907</td>\n",
              "      <td>0.266667</td>\n",
              "      <td>0.167442</td>\n",
              "      <td>16.0</td>\n",
              "      <td>0.307692</td>\n",
              "      <td>9.0</td>\n",
              "      <td>35.4</td>\n",
              "      <td>0</td>\n",
              "    </tr>\n",
              "    <tr>\n",
              "      <th>1</th>\n",
              "      <td>43.0</td>\n",
              "      <td>29.0</td>\n",
              "      <td>2.0</td>\n",
              "      <td>7.6</td>\n",
              "      <td>2.6</td>\n",
              "      <td>1963.2</td>\n",
              "      <td>1.4</td>\n",
              "      <td>6.2</td>\n",
              "      <td>2.4</td>\n",
              "      <td>0.0</td>\n",
              "      <td>129.0</td>\n",
              "      <td>4.808270e+06</td>\n",
              "      <td>101708.0</td>\n",
              "      <td>0.112560</td>\n",
              "      <td>0.118537</td>\n",
              "      <td>5879.0</td>\n",
              "      <td>1463.0</td>\n",
              "      <td>4.0</td>\n",
              "      <td>6207.0</td>\n",
              "      <td>5580.0</td>\n",
              "      <td>7.0</td>\n",
              "      <td>0.0</td>\n",
              "      <td>1183.0</td>\n",
              "      <td>1.0</td>\n",
              "      <td>0.0</td>\n",
              "      <td>5.0</td>\n",
              "      <td>1.0</td>\n",
              "      <td>0.0</td>\n",
              "      <td>0.0</td>\n",
              "      <td>0.0</td>\n",
              "      <td>1.0</td>\n",
              "      <td>0.0</td>\n",
              "      <td>0.0</td>\n",
              "      <td>0.0</td>\n",
              "      <td>1.0</td>\n",
              "      <td>0.0</td>\n",
              "      <td>0.0</td>\n",
              "      <td>0.0</td>\n",
              "      <td>0.0</td>\n",
              "      <td>101982.0</td>\n",
              "      <td>...</td>\n",
              "      <td>41.80</td>\n",
              "      <td>36.77</td>\n",
              "      <td>29.07</td>\n",
              "      <td>793.319561</td>\n",
              "      <td>0.0</td>\n",
              "      <td>1391.710938</td>\n",
              "      <td>89.0495</td>\n",
              "      <td>3.0</td>\n",
              "      <td>3.0</td>\n",
              "      <td>65.9</td>\n",
              "      <td>99.6</td>\n",
              "      <td>8180.755454</td>\n",
              "      <td>375.8</td>\n",
              "      <td>846.0</td>\n",
              "      <td>302.0</td>\n",
              "      <td>741.0</td>\n",
              "      <td>271.0</td>\n",
              "      <td>6943.0</td>\n",
              "      <td>565.0</td>\n",
              "      <td>0.45356</td>\n",
              "      <td>1240.0</td>\n",
              "      <td>269768.0</td>\n",
              "      <td>22.37</td>\n",
              "      <td>64.12</td>\n",
              "      <td>23587.0</td>\n",
              "      <td>230310.0</td>\n",
              "      <td>201108</td>\n",
              "      <td>201134</td>\n",
              "      <td>2011</td>\n",
              "      <td>8</td>\n",
              "      <td>34</td>\n",
              "      <td>5</td>\n",
              "      <td>0.674419</td>\n",
              "      <td>0.213793</td>\n",
              "      <td>0.144186</td>\n",
              "      <td>14.0</td>\n",
              "      <td>0.263158</td>\n",
              "      <td>5.6</td>\n",
              "      <td>47.8</td>\n",
              "      <td>1</td>\n",
              "    </tr>\n",
              "    <tr>\n",
              "      <th>2</th>\n",
              "      <td>89.0</td>\n",
              "      <td>50.0</td>\n",
              "      <td>9.0</td>\n",
              "      <td>18.0</td>\n",
              "      <td>2.6</td>\n",
              "      <td>2003.0</td>\n",
              "      <td>3.4</td>\n",
              "      <td>8.2</td>\n",
              "      <td>2.8</td>\n",
              "      <td>0.0</td>\n",
              "      <td>65.0</td>\n",
              "      <td>1.258354e+07</td>\n",
              "      <td>178473.0</td>\n",
              "      <td>0.194703</td>\n",
              "      <td>0.069753</td>\n",
              "      <td>13087.0</td>\n",
              "      <td>6839.0</td>\n",
              "      <td>9.0</td>\n",
              "      <td>13670.0</td>\n",
              "      <td>17063.0</td>\n",
              "      <td>10.0</td>\n",
              "      <td>0.0</td>\n",
              "      <td>1128.6</td>\n",
              "      <td>1.0</td>\n",
              "      <td>0.0</td>\n",
              "      <td>17.0</td>\n",
              "      <td>6.0</td>\n",
              "      <td>0.0</td>\n",
              "      <td>0.0</td>\n",
              "      <td>11.0</td>\n",
              "      <td>4.0</td>\n",
              "      <td>0.0</td>\n",
              "      <td>0.0</td>\n",
              "      <td>0.0</td>\n",
              "      <td>0.0</td>\n",
              "      <td>0.0</td>\n",
              "      <td>0.0</td>\n",
              "      <td>0.0</td>\n",
              "      <td>0.0</td>\n",
              "      <td>21155.0</td>\n",
              "      <td>...</td>\n",
              "      <td>44.25</td>\n",
              "      <td>37.73</td>\n",
              "      <td>30.63</td>\n",
              "      <td>793.319561</td>\n",
              "      <td>0.0</td>\n",
              "      <td>1391.710938</td>\n",
              "      <td>89.0495</td>\n",
              "      <td>3.0</td>\n",
              "      <td>3.0</td>\n",
              "      <td>65.9</td>\n",
              "      <td>99.6</td>\n",
              "      <td>8180.755454</td>\n",
              "      <td>375.8</td>\n",
              "      <td>846.0</td>\n",
              "      <td>302.0</td>\n",
              "      <td>741.0</td>\n",
              "      <td>271.0</td>\n",
              "      <td>6943.0</td>\n",
              "      <td>565.0</td>\n",
              "      <td>0.45356</td>\n",
              "      <td>1240.0</td>\n",
              "      <td>269768.0</td>\n",
              "      <td>22.37</td>\n",
              "      <td>64.12</td>\n",
              "      <td>23587.0</td>\n",
              "      <td>230310.0</td>\n",
              "      <td>201109</td>\n",
              "      <td>201135</td>\n",
              "      <td>2011</td>\n",
              "      <td>9</td>\n",
              "      <td>35</td>\n",
              "      <td>3</td>\n",
              "      <td>0.561798</td>\n",
              "      <td>0.164000</td>\n",
              "      <td>0.092135</td>\n",
              "      <td>39.0</td>\n",
              "      <td>0.500000</td>\n",
              "      <td>9.0</td>\n",
              "      <td>8.0</td>\n",
              "      <td>2</td>\n",
              "    </tr>\n",
              "    <tr>\n",
              "      <th>3</th>\n",
              "      <td>77.0</td>\n",
              "      <td>77.0</td>\n",
              "      <td>4.0</td>\n",
              "      <td>6.2</td>\n",
              "      <td>2.0</td>\n",
              "      <td>1949.8</td>\n",
              "      <td>3.4</td>\n",
              "      <td>7.4</td>\n",
              "      <td>2.6</td>\n",
              "      <td>0.0</td>\n",
              "      <td>6.0</td>\n",
              "      <td>8.398461e+06</td>\n",
              "      <td>108171.0</td>\n",
              "      <td>0.015234</td>\n",
              "      <td>0.037316</td>\n",
              "      <td>5706.0</td>\n",
              "      <td>3240.0</td>\n",
              "      <td>7.0</td>\n",
              "      <td>6748.0</td>\n",
              "      <td>7770.0</td>\n",
              "      <td>9.0</td>\n",
              "      <td>0.0</td>\n",
              "      <td>562.0</td>\n",
              "      <td>4.0</td>\n",
              "      <td>2.0</td>\n",
              "      <td>25.0</td>\n",
              "      <td>2.0</td>\n",
              "      <td>0.0</td>\n",
              "      <td>0.0</td>\n",
              "      <td>10.0</td>\n",
              "      <td>93.0</td>\n",
              "      <td>0.0</td>\n",
              "      <td>0.0</td>\n",
              "      <td>0.0</td>\n",
              "      <td>1.0</td>\n",
              "      <td>1.0</td>\n",
              "      <td>0.0</td>\n",
              "      <td>0.0</td>\n",
              "      <td>0.0</td>\n",
              "      <td>28179.0</td>\n",
              "      <td>...</td>\n",
              "      <td>44.25</td>\n",
              "      <td>37.73</td>\n",
              "      <td>30.63</td>\n",
              "      <td>793.319561</td>\n",
              "      <td>0.0</td>\n",
              "      <td>1391.710938</td>\n",
              "      <td>89.0495</td>\n",
              "      <td>3.0</td>\n",
              "      <td>3.0</td>\n",
              "      <td>65.9</td>\n",
              "      <td>99.6</td>\n",
              "      <td>8180.755454</td>\n",
              "      <td>375.8</td>\n",
              "      <td>846.0</td>\n",
              "      <td>302.0</td>\n",
              "      <td>741.0</td>\n",
              "      <td>271.0</td>\n",
              "      <td>6943.0</td>\n",
              "      <td>565.0</td>\n",
              "      <td>0.45356</td>\n",
              "      <td>1240.0</td>\n",
              "      <td>269768.0</td>\n",
              "      <td>22.37</td>\n",
              "      <td>64.12</td>\n",
              "      <td>23587.0</td>\n",
              "      <td>230310.0</td>\n",
              "      <td>201109</td>\n",
              "      <td>201136</td>\n",
              "      <td>2011</td>\n",
              "      <td>9</td>\n",
              "      <td>36</td>\n",
              "      <td>0</td>\n",
              "      <td>1.000000</td>\n",
              "      <td>0.096104</td>\n",
              "      <td>0.096104</td>\n",
              "      <td>0.0</td>\n",
              "      <td>0.645161</td>\n",
              "      <td>2.2</td>\n",
              "      <td>61.2</td>\n",
              "      <td>3</td>\n",
              "    </tr>\n",
              "    <tr>\n",
              "      <th>4</th>\n",
              "      <td>44.0</td>\n",
              "      <td>44.0</td>\n",
              "      <td>5.0</td>\n",
              "      <td>16.2</td>\n",
              "      <td>1.0</td>\n",
              "      <td>1979.6</td>\n",
              "      <td>3.0</td>\n",
              "      <td>8.6</td>\n",
              "      <td>2.4</td>\n",
              "      <td>0.0</td>\n",
              "      <td>9.0</td>\n",
              "      <td>6.407578e+06</td>\n",
              "      <td>155572.0</td>\n",
              "      <td>0.189727</td>\n",
              "      <td>0.000070</td>\n",
              "      <td>9576.0</td>\n",
              "      <td>5001.0</td>\n",
              "      <td>5.0</td>\n",
              "      <td>10309.0</td>\n",
              "      <td>11065.0</td>\n",
              "      <td>5.0</td>\n",
              "      <td>0.0</td>\n",
              "      <td>240.0</td>\n",
              "      <td>1.0</td>\n",
              "      <td>0.0</td>\n",
              "      <td>7.0</td>\n",
              "      <td>3.0</td>\n",
              "      <td>0.0</td>\n",
              "      <td>0.0</td>\n",
              "      <td>16.0</td>\n",
              "      <td>1.0</td>\n",
              "      <td>0.0</td>\n",
              "      <td>0.0</td>\n",
              "      <td>0.0</td>\n",
              "      <td>0.0</td>\n",
              "      <td>0.0</td>\n",
              "      <td>0.0</td>\n",
              "      <td>0.0</td>\n",
              "      <td>0.0</td>\n",
              "      <td>86206.0</td>\n",
              "      <td>...</td>\n",
              "      <td>44.25</td>\n",
              "      <td>37.73</td>\n",
              "      <td>30.63</td>\n",
              "      <td>793.319561</td>\n",
              "      <td>0.0</td>\n",
              "      <td>1391.710938</td>\n",
              "      <td>89.0495</td>\n",
              "      <td>3.0</td>\n",
              "      <td>3.0</td>\n",
              "      <td>65.9</td>\n",
              "      <td>99.6</td>\n",
              "      <td>8180.755454</td>\n",
              "      <td>375.8</td>\n",
              "      <td>846.0</td>\n",
              "      <td>302.0</td>\n",
              "      <td>741.0</td>\n",
              "      <td>271.0</td>\n",
              "      <td>6943.0</td>\n",
              "      <td>565.0</td>\n",
              "      <td>0.45356</td>\n",
              "      <td>1240.0</td>\n",
              "      <td>269768.0</td>\n",
              "      <td>22.37</td>\n",
              "      <td>64.12</td>\n",
              "      <td>23587.0</td>\n",
              "      <td>230310.0</td>\n",
              "      <td>201109</td>\n",
              "      <td>201136</td>\n",
              "      <td>2011</td>\n",
              "      <td>9</td>\n",
              "      <td>36</td>\n",
              "      <td>4</td>\n",
              "      <td>1.000000</td>\n",
              "      <td>0.195455</td>\n",
              "      <td>0.195455</td>\n",
              "      <td>0.0</td>\n",
              "      <td>0.308642</td>\n",
              "      <td>11.2</td>\n",
              "      <td>31.4</td>\n",
              "      <td>4</td>\n",
              "    </tr>\n",
              "  </tbody>\n",
              "</table>\n",
              "<p>5 rows × 404 columns</p>\n",
              "</div>"
            ],
            "text/plain": [
              "   full_sq  life_sq  floor  ...  floor_from_top  age_of_building  apartment_name\n",
              "0     43.0     27.0    4.0  ...             9.0             35.4               0\n",
              "1     43.0     29.0    2.0  ...             5.6             47.8               1\n",
              "2     89.0     50.0    9.0  ...             9.0              8.0               2\n",
              "3     77.0     77.0    4.0  ...             2.2             61.2               3\n",
              "4     44.0     44.0    5.0  ...            11.2             31.4               4\n",
              "\n",
              "[5 rows x 404 columns]"
            ]
          },
          "metadata": {
            "tags": []
          },
          "execution_count": 5
        }
      ]
    },
    {
      "cell_type": "code",
      "metadata": {
        "colab": {
          "base_uri": "https://localhost:8080/",
          "height": 195
        },
        "id": "lb7nCiTbPHiF",
        "outputId": "da620f88-047b-41f1-9377-ef1d535922a1"
      },
      "source": [
        "train_y.head()"
      ],
      "execution_count": null,
      "outputs": [
        {
          "output_type": "execute_result",
          "data": {
            "text/html": [
              "<div>\n",
              "<style scoped>\n",
              "    .dataframe tbody tr th:only-of-type {\n",
              "        vertical-align: middle;\n",
              "    }\n",
              "\n",
              "    .dataframe tbody tr th {\n",
              "        vertical-align: top;\n",
              "    }\n",
              "\n",
              "    .dataframe thead th {\n",
              "        text-align: right;\n",
              "    }\n",
              "</style>\n",
              "<table border=\"1\" class=\"dataframe\">\n",
              "  <thead>\n",
              "    <tr style=\"text-align: right;\">\n",
              "      <th></th>\n",
              "      <th>0</th>\n",
              "    </tr>\n",
              "  </thead>\n",
              "  <tbody>\n",
              "    <tr>\n",
              "      <th>0</th>\n",
              "      <td>15.581952</td>\n",
              "    </tr>\n",
              "    <tr>\n",
              "      <th>1</th>\n",
              "      <td>15.555977</td>\n",
              "    </tr>\n",
              "    <tr>\n",
              "      <th>2</th>\n",
              "      <td>16.388123</td>\n",
              "    </tr>\n",
              "    <tr>\n",
              "      <th>3</th>\n",
              "      <td>16.608603</td>\n",
              "    </tr>\n",
              "    <tr>\n",
              "      <th>4</th>\n",
              "      <td>14.508658</td>\n",
              "    </tr>\n",
              "  </tbody>\n",
              "</table>\n",
              "</div>"
            ],
            "text/plain": [
              "           0\n",
              "0  15.581952\n",
              "1  15.555977\n",
              "2  16.388123\n",
              "3  16.608603\n",
              "4  14.508658"
            ]
          },
          "metadata": {
            "tags": []
          },
          "execution_count": 6
        }
      ]
    },
    {
      "cell_type": "code",
      "metadata": {
        "colab": {
          "base_uri": "https://localhost:8080/"
        },
        "id": "k_zaKqg9RQ6W",
        "outputId": "38d3a03d-bdf0-4bea-9cf5-dbab631fb1e1"
      },
      "source": [
        "np.array(train_y)"
      ],
      "execution_count": null,
      "outputs": [
        {
          "output_type": "execute_result",
          "data": {
            "text/plain": [
              "array([[15.58195239],\n",
              "       [15.55597691],\n",
              "       [16.38812286],\n",
              "       ...,\n",
              "       [17.03438642],\n",
              "       [16.41820032],\n",
              "       [15.53827733]])"
            ]
          },
          "metadata": {
            "tags": []
          },
          "execution_count": 7
        }
      ]
    },
    {
      "cell_type": "code",
      "metadata": {
        "colab": {
          "base_uri": "https://localhost:8080/"
        },
        "id": "JYK8I7sgTv1-",
        "outputId": "89cef795-8690-4aa2-c703-389a83746f6e"
      },
      "source": [
        "print(np.any(np.isnan(train_X)))\n",
        "np.all(np.isfinite(train_X))"
      ],
      "execution_count": null,
      "outputs": [
        {
          "output_type": "stream",
          "text": [
            "False\n"
          ],
          "name": "stdout"
        },
        {
          "output_type": "execute_result",
          "data": {
            "text/plain": [
              "True"
            ]
          },
          "metadata": {
            "tags": []
          },
          "execution_count": 13
        }
      ]
    },
    {
      "cell_type": "code",
      "metadata": {
        "colab": {
          "base_uri": "https://localhost:8080/"
        },
        "id": "gLTI4Vn0TzsZ",
        "outputId": "a742466a-d032-49db-ada4-61109200ed45"
      },
      "source": [
        "print(np.any(np.isnan(train_y)))\n",
        "np.all(np.isfinite(train_y))"
      ],
      "execution_count": null,
      "outputs": [
        {
          "output_type": "stream",
          "text": [
            "False\n"
          ],
          "name": "stdout"
        },
        {
          "output_type": "execute_result",
          "data": {
            "text/plain": [
              "True"
            ]
          },
          "metadata": {
            "tags": []
          },
          "execution_count": 14
        }
      ]
    },
    {
      "cell_type": "markdown",
      "metadata": {
        "id": "46qPhVMnKigf"
      },
      "source": [
        "## Grid Search\n"
      ]
    },
    {
      "cell_type": "code",
      "metadata": {
        "id": "pnVx_yBgKmTr"
      },
      "source": [
        "from sklearn.neural_network import MLPRegressor\n",
        "mlp = MLPRegressor(max_iter=100)"
      ],
      "execution_count": null,
      "outputs": []
    },
    {
      "cell_type": "code",
      "metadata": {
        "id": "ykK_jlL8Kpbi"
      },
      "source": [
        "parameter_space = {\n",
        "    'hidden_layer_sizes': [(100,), (25,3), (20,3), (25,2)],\n",
        "    'activation': ['tanh', 'relu'],\n",
        "    'solver': ['adam'],\n",
        "    'alpha': [0.0001, 0.05],\n",
        "    'learning_rate': ['constant','adaptive'],\n",
        "}"
      ],
      "execution_count": null,
      "outputs": []
    },
    {
      "cell_type": "code",
      "metadata": {
        "colab": {
          "base_uri": "https://localhost:8080/"
        },
        "id": "xUN9tDDSLHJg",
        "outputId": "7fe5bed9-cb26-460d-c141-2db4a7fd47ec"
      },
      "source": [
        "from sklearn.model_selection import GridSearchCV\n",
        "\n",
        "clf = GridSearchCV(mlp, parameter_space, n_jobs=-1, cv=5)\n",
        "clf.fit(train_X, train_y)"
      ],
      "execution_count": null,
      "outputs": [
        {
          "output_type": "stream",
          "text": [
            "/usr/local/lib/python3.7/dist-packages/sklearn/neural_network/_multilayer_perceptron.py:1342: DataConversionWarning: A column-vector y was passed when a 1d array was expected. Please change the shape of y to (n_samples, ), for example using ravel().\n",
            "  y = column_or_1d(y, warn=True)\n"
          ],
          "name": "stderr"
        },
        {
          "output_type": "execute_result",
          "data": {
            "text/plain": [
              "GridSearchCV(cv=5, error_score=nan,\n",
              "             estimator=MLPRegressor(activation='relu', alpha=0.0001,\n",
              "                                    batch_size='auto', beta_1=0.9, beta_2=0.999,\n",
              "                                    early_stopping=False, epsilon=1e-08,\n",
              "                                    hidden_layer_sizes=(100,),\n",
              "                                    learning_rate='constant',\n",
              "                                    learning_rate_init=0.001, max_fun=15000,\n",
              "                                    max_iter=100, momentum=0.9,\n",
              "                                    n_iter_no_change=10,\n",
              "                                    nesterovs_momentum=True, power_t=0.5,\n",
              "                                    random_state=...\n",
              "                                    solver='adam', tol=0.0001,\n",
              "                                    validation_fraction=0.1, verbose=False,\n",
              "                                    warm_start=False),\n",
              "             iid='deprecated', n_jobs=-1,\n",
              "             param_grid={'activation': ['tanh', 'relu'],\n",
              "                         'alpha': [0.0001, 0.05],\n",
              "                         'hidden_layer_sizes': [(100,), (25, 3), (20, 3),\n",
              "                                                (25, 2)],\n",
              "                         'learning_rate': ['constant', 'adaptive'],\n",
              "                         'solver': ['adam']},\n",
              "             pre_dispatch='2*n_jobs', refit=True, return_train_score=False,\n",
              "             scoring=None, verbose=0)"
            ]
          },
          "metadata": {
            "tags": []
          },
          "execution_count": 37
        }
      ]
    },
    {
      "cell_type": "code",
      "metadata": {
        "id": "2YG7MAjXLeUC",
        "colab": {
          "base_uri": "https://localhost:8080/"
        },
        "outputId": "7dae225b-0e8d-4569-eb5e-79ee008e623f"
      },
      "source": [
        "# Best paramete set\n",
        "print('Best parameters found:\\n', clf.best_params_)\n",
        "\n",
        "# All results\n",
        "means = clf.cv_results_['mean_test_score']\n",
        "stds = clf.cv_results_['std_test_score']\n",
        "for mean, std, params in zip(means, stds, clf.cv_results_['params']):\n",
        "    print(\"%0.3f (+/-%0.03f) for %r\" % (mean, std * 2, params))"
      ],
      "execution_count": null,
      "outputs": [
        {
          "output_type": "stream",
          "text": [
            "Best parameters found:\n",
            " {'activation': 'tanh', 'alpha': 0.0001, 'hidden_layer_sizes': (100,), 'learning_rate': 'adaptive', 'solver': 'adam'}\n",
            "-0.020 (+/-0.074) for {'activation': 'tanh', 'alpha': 0.0001, 'hidden_layer_sizes': (100,), 'learning_rate': 'constant', 'solver': 'adam'}\n",
            "-0.000 (+/-0.069) for {'activation': 'tanh', 'alpha': 0.0001, 'hidden_layer_sizes': (100,), 'learning_rate': 'adaptive', 'solver': 'adam'}\n",
            "-0.023 (+/-0.057) for {'activation': 'tanh', 'alpha': 0.0001, 'hidden_layer_sizes': (25, 3), 'learning_rate': 'constant', 'solver': 'adam'}\n",
            "-0.022 (+/-0.060) for {'activation': 'tanh', 'alpha': 0.0001, 'hidden_layer_sizes': (25, 3), 'learning_rate': 'adaptive', 'solver': 'adam'}\n",
            "-0.025 (+/-0.055) for {'activation': 'tanh', 'alpha': 0.0001, 'hidden_layer_sizes': (20, 3), 'learning_rate': 'constant', 'solver': 'adam'}\n",
            "-0.017 (+/-0.058) for {'activation': 'tanh', 'alpha': 0.0001, 'hidden_layer_sizes': (20, 3), 'learning_rate': 'adaptive', 'solver': 'adam'}\n",
            "-0.029 (+/-0.058) for {'activation': 'tanh', 'alpha': 0.0001, 'hidden_layer_sizes': (25, 2), 'learning_rate': 'constant', 'solver': 'adam'}\n",
            "-0.030 (+/-0.061) for {'activation': 'tanh', 'alpha': 0.0001, 'hidden_layer_sizes': (25, 2), 'learning_rate': 'adaptive', 'solver': 'adam'}\n",
            "-0.032 (+/-0.094) for {'activation': 'tanh', 'alpha': 0.05, 'hidden_layer_sizes': (100,), 'learning_rate': 'constant', 'solver': 'adam'}\n",
            "-0.036 (+/-0.055) for {'activation': 'tanh', 'alpha': 0.05, 'hidden_layer_sizes': (100,), 'learning_rate': 'adaptive', 'solver': 'adam'}\n",
            "-0.030 (+/-0.061) for {'activation': 'tanh', 'alpha': 0.05, 'hidden_layer_sizes': (25, 3), 'learning_rate': 'constant', 'solver': 'adam'}\n",
            "-0.029 (+/-0.062) for {'activation': 'tanh', 'alpha': 0.05, 'hidden_layer_sizes': (25, 3), 'learning_rate': 'adaptive', 'solver': 'adam'}\n",
            "-0.026 (+/-0.049) for {'activation': 'tanh', 'alpha': 0.05, 'hidden_layer_sizes': (20, 3), 'learning_rate': 'constant', 'solver': 'adam'}\n",
            "-0.029 (+/-0.060) for {'activation': 'tanh', 'alpha': 0.05, 'hidden_layer_sizes': (20, 3), 'learning_rate': 'adaptive', 'solver': 'adam'}\n",
            "-0.030 (+/-0.060) for {'activation': 'tanh', 'alpha': 0.05, 'hidden_layer_sizes': (25, 2), 'learning_rate': 'constant', 'solver': 'adam'}\n",
            "-0.033 (+/-0.055) for {'activation': 'tanh', 'alpha': 0.05, 'hidden_layer_sizes': (25, 2), 'learning_rate': 'adaptive', 'solver': 'adam'}\n",
            "-138008054.393 (+/-241358285.173) for {'activation': 'relu', 'alpha': 0.0001, 'hidden_layer_sizes': (100,), 'learning_rate': 'constant', 'solver': 'adam'}\n",
            "-163650180.534 (+/-276837067.456) for {'activation': 'relu', 'alpha': 0.0001, 'hidden_layer_sizes': (100,), 'learning_rate': 'adaptive', 'solver': 'adam'}\n",
            "-29211737.439 (+/-86305717.303) for {'activation': 'relu', 'alpha': 0.0001, 'hidden_layer_sizes': (25, 3), 'learning_rate': 'constant', 'solver': 'adam'}\n",
            "-30225679.883 (+/-72957343.917) for {'activation': 'relu', 'alpha': 0.0001, 'hidden_layer_sizes': (25, 3), 'learning_rate': 'adaptive', 'solver': 'adam'}\n",
            "-22975734.696 (+/-91900472.114) for {'activation': 'relu', 'alpha': 0.0001, 'hidden_layer_sizes': (20, 3), 'learning_rate': 'constant', 'solver': 'adam'}\n",
            "-3536804.895 (+/-10254678.131) for {'activation': 'relu', 'alpha': 0.0001, 'hidden_layer_sizes': (20, 3), 'learning_rate': 'adaptive', 'solver': 'adam'}\n",
            "-579.538 (+/-299.352) for {'activation': 'relu', 'alpha': 0.0001, 'hidden_layer_sizes': (25, 2), 'learning_rate': 'constant', 'solver': 'adam'}\n",
            "-366949.028 (+/-1465976.964) for {'activation': 'relu', 'alpha': 0.0001, 'hidden_layer_sizes': (25, 2), 'learning_rate': 'adaptive', 'solver': 'adam'}\n",
            "-201449268.575 (+/-300545748.553) for {'activation': 'relu', 'alpha': 0.05, 'hidden_layer_sizes': (100,), 'learning_rate': 'constant', 'solver': 'adam'}\n",
            "-6737767923.983 (+/-26154618858.224) for {'activation': 'relu', 'alpha': 0.05, 'hidden_layer_sizes': (100,), 'learning_rate': 'adaptive', 'solver': 'adam'}\n",
            "-3039183.965 (+/-12153208.821) for {'activation': 'relu', 'alpha': 0.05, 'hidden_layer_sizes': (25, 3), 'learning_rate': 'constant', 'solver': 'adam'}\n",
            "-606.219 (+/-179.123) for {'activation': 'relu', 'alpha': 0.05, 'hidden_layer_sizes': (25, 3), 'learning_rate': 'adaptive', 'solver': 'adam'}\n",
            "-35937063.045 (+/-141983200.942) for {'activation': 'relu', 'alpha': 0.05, 'hidden_layer_sizes': (20, 3), 'learning_rate': 'constant', 'solver': 'adam'}\n",
            "-17925308.171 (+/-71122459.665) for {'activation': 'relu', 'alpha': 0.05, 'hidden_layer_sizes': (20, 3), 'learning_rate': 'adaptive', 'solver': 'adam'}\n",
            "-1122995.399 (+/-2751371.608) for {'activation': 'relu', 'alpha': 0.05, 'hidden_layer_sizes': (25, 2), 'learning_rate': 'constant', 'solver': 'adam'}\n",
            "-729.045 (+/-567.302) for {'activation': 'relu', 'alpha': 0.05, 'hidden_layer_sizes': (25, 2), 'learning_rate': 'adaptive', 'solver': 'adam'}\n"
          ],
          "name": "stdout"
        }
      ]
    },
    {
      "cell_type": "code",
      "metadata": {
        "colab": {
          "base_uri": "https://localhost:8080/"
        },
        "id": "qHoV4Ncyij3x",
        "outputId": "d9740a50-c956-47c5-f944-d4324b657981"
      },
      "source": [
        "import pickle\n",
        "import joblib\n",
        "\n",
        "# save model\n",
        "if not os.path.exists('cv_models'):\n",
        "    os.makedirs('cv_models')\n",
        "joblib.dump(clf, 'cv_models/mlp.pkl')"
      ],
      "execution_count": null,
      "outputs": [
        {
          "output_type": "execute_result",
          "data": {
            "text/plain": [
              "['cv_models/mlp.pkl']"
            ]
          },
          "metadata": {
            "tags": []
          },
          "execution_count": 39
        }
      ]
    },
    {
      "cell_type": "markdown",
      "metadata": {
        "id": "3Sk3rKsYhZwq"
      },
      "source": [
        "## vif 75"
      ]
    },
    {
      "cell_type": "code",
      "metadata": {
        "colab": {
          "base_uri": "https://localhost:8080/"
        },
        "id": "JegJIBw3hdFp",
        "outputId": "dad18db4-f5cc-436f-f174-1a81c9379343"
      },
      "source": [
        "with open('remain_features.pkl', 'rb') as f:\n",
        "    features = pickle.load(f)\n",
        "    print(features)\n",
        "print(len(features))"
      ],
      "execution_count": null,
      "outputs": [
        {
          "output_type": "stream",
          "text": [
            "['material' 'product_type' 'indust_part'\n",
            " 'school_education_centers_top_20_raion' 'hospital_beds_raion'\n",
            " 'healthcare_centers_raion' 'university_top_20_raion'\n",
            " 'additional_education_raion' 'culture_objects_top_25'\n",
            " 'thermal_power_plant_raion' 'incineration_raion' 'oil_chemistry_raion'\n",
            " 'radiation_raion' 'railroad_terminal_raion' 'big_market_raion'\n",
            " 'nuclear_reactor_raion' 'detention_facility_raion' '16_29_male'\n",
            " 'build_count_block' 'build_count_frame' 'build_count_monolith'\n",
            " 'build_count_foam' 'build_count_before_1920' 'build_count_1971-1995'\n",
            " 'ID_metro' 'kindergarten_km' 'park_km' 'green_zone_km'\n",
            " 'ID_railroad_station_avto' 'public_transport_station_min_walk' 'water_km'\n",
            " 'water_1line' 'ID_big_road1' 'big_road1_1line' 'ID_big_road2'\n",
            " 'railroad_km' 'railroad_1line' 'ID_railroad_terminal' 'fitness_km'\n",
            " 'catering_km' 'green_part_500' 'prom_part_500' 'office_sqm_500'\n",
            " 'trc_count_500' 'trc_sqm_500' 'cafe_count_500_na_price'\n",
            " 'cafe_count_500_price_1000' 'cafe_count_500_price_4000'\n",
            " 'cafe_count_500_price_high' 'big_church_count_500' 'mosque_count_500'\n",
            " 'leisure_count_500' 'sport_count_500' 'market_count_500'\n",
            " 'office_sqm_1000' 'trc_sqm_1000' 'cafe_count_1000_price_high'\n",
            " 'mosque_count_1000' 'market_count_1000' 'mosque_count_1500'\n",
            " 'market_count_1500' 'trc_sqm_2000' 'mosque_count_2000'\n",
            " 'mosque_count_3000' 'mosque_count_5000' 'gdp_quart_growth'\n",
            " 'balance_trade_growth' 'net_capital_export' 'deposits_growth'\n",
            " 'mortgage_value' 'day_of_week' 'ratio_kitch_life' 'full_live_diff'\n",
            " 'floor_from_top' 'apartment_name']\n",
            "75\n"
          ],
          "name": "stdout"
        }
      ]
    },
    {
      "cell_type": "code",
      "metadata": {
        "id": "RScRwTDQhu8U"
      },
      "source": [
        "train_X_selected = train_X[[c for c in train_X.columns if c in features]]"
      ],
      "execution_count": null,
      "outputs": []
    },
    {
      "cell_type": "code",
      "metadata": {
        "id": "My-AwY9CkeW8"
      },
      "source": [
        "from sklearn.neural_network import MLPRegressor\n",
        "mlp_selected = MLPRegressor(max_iter=100)"
      ],
      "execution_count": null,
      "outputs": []
    },
    {
      "cell_type": "code",
      "metadata": {
        "colab": {
          "base_uri": "https://localhost:8080/"
        },
        "id": "9XZ17yxQkmI8",
        "outputId": "d4ce0a51-a346-4284-829f-98776c0d52ea"
      },
      "source": [
        "from sklearn.model_selection import GridSearchCV\n",
        "\n",
        "clf_selected = GridSearchCV(mlp, parameter_space, n_jobs=-1, cv=5)\n",
        "clf_selected.fit(train_X_selected, train_y)"
      ],
      "execution_count": null,
      "outputs": [
        {
          "output_type": "stream",
          "text": [
            "/usr/local/lib/python3.7/dist-packages/sklearn/neural_network/_multilayer_perceptron.py:1342: DataConversionWarning: A column-vector y was passed when a 1d array was expected. Please change the shape of y to (n_samples, ), for example using ravel().\n",
            "  y = column_or_1d(y, warn=True)\n",
            "/usr/local/lib/python3.7/dist-packages/sklearn/neural_network/_multilayer_perceptron.py:571: ConvergenceWarning: Stochastic Optimizer: Maximum iterations (100) reached and the optimization hasn't converged yet.\n",
            "  % self.max_iter, ConvergenceWarning)\n"
          ],
          "name": "stderr"
        },
        {
          "output_type": "execute_result",
          "data": {
            "text/plain": [
              "GridSearchCV(cv=5, error_score=nan,\n",
              "             estimator=MLPRegressor(activation='relu', alpha=0.0001,\n",
              "                                    batch_size='auto', beta_1=0.9, beta_2=0.999,\n",
              "                                    early_stopping=False, epsilon=1e-08,\n",
              "                                    hidden_layer_sizes=(100,),\n",
              "                                    learning_rate='constant',\n",
              "                                    learning_rate_init=0.001, max_fun=15000,\n",
              "                                    max_iter=100, momentum=0.9,\n",
              "                                    n_iter_no_change=10,\n",
              "                                    nesterovs_momentum=True, power_t=0.5,\n",
              "                                    random_state=...\n",
              "                                    solver='adam', tol=0.0001,\n",
              "                                    validation_fraction=0.1, verbose=False,\n",
              "                                    warm_start=False),\n",
              "             iid='deprecated', n_jobs=-1,\n",
              "             param_grid={'activation': ['tanh', 'relu'],\n",
              "                         'alpha': [0.0001, 0.05],\n",
              "                         'hidden_layer_sizes': [(100,), (25, 3), (20, 3),\n",
              "                                                (25, 2)],\n",
              "                         'learning_rate': ['constant', 'adaptive'],\n",
              "                         'solver': ['adam']},\n",
              "             pre_dispatch='2*n_jobs', refit=True, return_train_score=False,\n",
              "             scoring=None, verbose=0)"
            ]
          },
          "metadata": {
            "tags": []
          },
          "execution_count": 43
        }
      ]
    },
    {
      "cell_type": "code",
      "metadata": {
        "colab": {
          "base_uri": "https://localhost:8080/"
        },
        "id": "6EYMzJGukyff",
        "outputId": "149aacc9-e7de-49bf-8a4a-ce763a2b587d"
      },
      "source": [
        "# Best paramete set\n",
        "print('Best parameters found:\\n', clf_selected.best_params_)\n",
        "\n",
        "# All results\n",
        "means_selected = clf_selected.cv_results_['mean_test_score']\n",
        "stds_selected = clf_selected.cv_results_['std_test_score']\n",
        "for mean, std, params in zip(means_selected, stds_selected, clf_selected.cv_results_['params']):\n",
        "    print(\"%0.3f (+/-%0.03f) for %r\" % (mean, std * 2, params))"
      ],
      "execution_count": null,
      "outputs": [
        {
          "output_type": "stream",
          "text": [
            "Best parameters found:\n",
            " {'activation': 'tanh', 'alpha': 0.05, 'hidden_layer_sizes': (100,), 'learning_rate': 'constant', 'solver': 'adam'}\n",
            "-0.034 (+/-0.165) for {'activation': 'tanh', 'alpha': 0.0001, 'hidden_layer_sizes': (100,), 'learning_rate': 'constant', 'solver': 'adam'}\n",
            "-0.094 (+/-0.245) for {'activation': 'tanh', 'alpha': 0.0001, 'hidden_layer_sizes': (100,), 'learning_rate': 'adaptive', 'solver': 'adam'}\n",
            "-0.029 (+/-0.059) for {'activation': 'tanh', 'alpha': 0.0001, 'hidden_layer_sizes': (25, 3), 'learning_rate': 'constant', 'solver': 'adam'}\n",
            "-0.030 (+/-0.060) for {'activation': 'tanh', 'alpha': 0.0001, 'hidden_layer_sizes': (25, 3), 'learning_rate': 'adaptive', 'solver': 'adam'}\n",
            "-0.030 (+/-0.061) for {'activation': 'tanh', 'alpha': 0.0001, 'hidden_layer_sizes': (20, 3), 'learning_rate': 'constant', 'solver': 'adam'}\n",
            "-0.030 (+/-0.061) for {'activation': 'tanh', 'alpha': 0.0001, 'hidden_layer_sizes': (20, 3), 'learning_rate': 'adaptive', 'solver': 'adam'}\n",
            "-0.022 (+/-0.070) for {'activation': 'tanh', 'alpha': 0.0001, 'hidden_layer_sizes': (25, 2), 'learning_rate': 'constant', 'solver': 'adam'}\n",
            "-0.029 (+/-0.060) for {'activation': 'tanh', 'alpha': 0.0001, 'hidden_layer_sizes': (25, 2), 'learning_rate': 'adaptive', 'solver': 'adam'}\n",
            "-0.017 (+/-0.094) for {'activation': 'tanh', 'alpha': 0.05, 'hidden_layer_sizes': (100,), 'learning_rate': 'constant', 'solver': 'adam'}\n",
            "-0.020 (+/-0.098) for {'activation': 'tanh', 'alpha': 0.05, 'hidden_layer_sizes': (100,), 'learning_rate': 'adaptive', 'solver': 'adam'}\n",
            "-0.021 (+/-0.074) for {'activation': 'tanh', 'alpha': 0.05, 'hidden_layer_sizes': (25, 3), 'learning_rate': 'constant', 'solver': 'adam'}\n",
            "-0.024 (+/-0.051) for {'activation': 'tanh', 'alpha': 0.05, 'hidden_layer_sizes': (25, 3), 'learning_rate': 'adaptive', 'solver': 'adam'}\n",
            "-0.028 (+/-0.082) for {'activation': 'tanh', 'alpha': 0.05, 'hidden_layer_sizes': (20, 3), 'learning_rate': 'constant', 'solver': 'adam'}\n",
            "-0.022 (+/-0.074) for {'activation': 'tanh', 'alpha': 0.05, 'hidden_layer_sizes': (20, 3), 'learning_rate': 'adaptive', 'solver': 'adam'}\n",
            "-0.026 (+/-0.063) for {'activation': 'tanh', 'alpha': 0.05, 'hidden_layer_sizes': (25, 2), 'learning_rate': 'constant', 'solver': 'adam'}\n",
            "-0.022 (+/-0.066) for {'activation': 'tanh', 'alpha': 0.05, 'hidden_layer_sizes': (25, 2), 'learning_rate': 'adaptive', 'solver': 'adam'}\n",
            "-1163586.482 (+/-1242373.382) for {'activation': 'relu', 'alpha': 0.0001, 'hidden_layer_sizes': (100,), 'learning_rate': 'constant', 'solver': 'adam'}\n",
            "-776449.045 (+/-921019.126) for {'activation': 'relu', 'alpha': 0.0001, 'hidden_layer_sizes': (100,), 'learning_rate': 'adaptive', 'solver': 'adam'}\n",
            "-1244.443 (+/-3074.042) for {'activation': 'relu', 'alpha': 0.0001, 'hidden_layer_sizes': (25, 3), 'learning_rate': 'constant', 'solver': 'adam'}\n",
            "-46321.667 (+/-182496.681) for {'activation': 'relu', 'alpha': 0.0001, 'hidden_layer_sizes': (25, 3), 'learning_rate': 'adaptive', 'solver': 'adam'}\n",
            "-531.610 (+/-299.498) for {'activation': 'relu', 'alpha': 0.0001, 'hidden_layer_sizes': (20, 3), 'learning_rate': 'constant', 'solver': 'adam'}\n",
            "-4659.957 (+/-8814.696) for {'activation': 'relu', 'alpha': 0.0001, 'hidden_layer_sizes': (20, 3), 'learning_rate': 'adaptive', 'solver': 'adam'}\n",
            "-13920.693 (+/-49907.172) for {'activation': 'relu', 'alpha': 0.0001, 'hidden_layer_sizes': (25, 2), 'learning_rate': 'constant', 'solver': 'adam'}\n",
            "-443.953 (+/-319.443) for {'activation': 'relu', 'alpha': 0.0001, 'hidden_layer_sizes': (25, 2), 'learning_rate': 'adaptive', 'solver': 'adam'}\n",
            "-819758.026 (+/-1285360.001) for {'activation': 'relu', 'alpha': 0.05, 'hidden_layer_sizes': (100,), 'learning_rate': 'constant', 'solver': 'adam'}\n",
            "-1109393.992 (+/-1622657.971) for {'activation': 'relu', 'alpha': 0.05, 'hidden_layer_sizes': (100,), 'learning_rate': 'adaptive', 'solver': 'adam'}\n",
            "-86134.541 (+/-341555.806) for {'activation': 'relu', 'alpha': 0.05, 'hidden_layer_sizes': (25, 3), 'learning_rate': 'constant', 'solver': 'adam'}\n",
            "-77676.565 (+/-207745.836) for {'activation': 'relu', 'alpha': 0.05, 'hidden_layer_sizes': (25, 3), 'learning_rate': 'adaptive', 'solver': 'adam'}\n",
            "-48816.839 (+/-118121.472) for {'activation': 'relu', 'alpha': 0.05, 'hidden_layer_sizes': (20, 3), 'learning_rate': 'constant', 'solver': 'adam'}\n",
            "-5188.589 (+/-10992.421) for {'activation': 'relu', 'alpha': 0.05, 'hidden_layer_sizes': (20, 3), 'learning_rate': 'adaptive', 'solver': 'adam'}\n",
            "-5347.126 (+/-19050.227) for {'activation': 'relu', 'alpha': 0.05, 'hidden_layer_sizes': (25, 2), 'learning_rate': 'constant', 'solver': 'adam'}\n",
            "-1788.564 (+/-5860.281) for {'activation': 'relu', 'alpha': 0.05, 'hidden_layer_sizes': (25, 2), 'learning_rate': 'adaptive', 'solver': 'adam'}\n"
          ],
          "name": "stdout"
        }
      ]
    },
    {
      "cell_type": "code",
      "metadata": {
        "colab": {
          "base_uri": "https://localhost:8080/"
        },
        "id": "EqKB6KsllSl7",
        "outputId": "bf54906d-ec29-4d12-decb-1049a5a15e74"
      },
      "source": [
        "# save model\n",
        "if not os.path.exists('cv_models'):\n",
        "    os.makedirs('cv_models')\n",
        "joblib.dump(clf_selected, 'cv_models/mlp_selected.pkl')"
      ],
      "execution_count": null,
      "outputs": [
        {
          "output_type": "execute_result",
          "data": {
            "text/plain": [
              "['cv_models/mlp_selected.pkl']"
            ]
          },
          "metadata": {
            "tags": []
          },
          "execution_count": 45
        }
      ]
    },
    {
      "cell_type": "markdown",
      "metadata": {
        "id": "SFOR7nyXlnzP"
      },
      "source": [
        "## Train & Test"
      ]
    },
    {
      "cell_type": "code",
      "metadata": {
        "colab": {
          "base_uri": "https://localhost:8080/"
        },
        "id": "YhgsZkxrlfDG",
        "outputId": "b2662762-0e09-4dc2-b2a6-087f979c5392"
      },
      "source": [
        "mdl = joblib.load('cv_models/mlp.pkl')\n",
        "mdl_selected = joblib.load('cv_models/mlp_selected.pkl')\n",
        "\n",
        "mlp = MLPRegressor(**mdl.best_params_)\n",
        "mlp_selected = MLPRegressor(**mdl_selected.best_params_)\n",
        "\n",
        "mlp.fit(train_X, train_y)\n",
        "mlp_selected.fit(train_X_selected, train_y)"
      ],
      "execution_count": null,
      "outputs": [
        {
          "output_type": "stream",
          "text": [
            "/usr/local/lib/python3.7/dist-packages/sklearn/neural_network/_multilayer_perceptron.py:1342: DataConversionWarning: A column-vector y was passed when a 1d array was expected. Please change the shape of y to (n_samples, ), for example using ravel().\n",
            "  y = column_or_1d(y, warn=True)\n",
            "/usr/local/lib/python3.7/dist-packages/sklearn/neural_network/_multilayer_perceptron.py:1342: DataConversionWarning: A column-vector y was passed when a 1d array was expected. Please change the shape of y to (n_samples, ), for example using ravel().\n",
            "  y = column_or_1d(y, warn=True)\n"
          ],
          "name": "stderr"
        },
        {
          "output_type": "execute_result",
          "data": {
            "text/plain": [
              "MLPRegressor(activation='tanh', alpha=0.05, batch_size='auto', beta_1=0.9,\n",
              "             beta_2=0.999, early_stopping=False, epsilon=1e-08,\n",
              "             hidden_layer_sizes=(100,), learning_rate='constant',\n",
              "             learning_rate_init=0.001, max_fun=15000, max_iter=200,\n",
              "             momentum=0.9, n_iter_no_change=10, nesterovs_momentum=True,\n",
              "             power_t=0.5, random_state=None, shuffle=True, solver='adam',\n",
              "             tol=0.0001, validation_fraction=0.1, verbose=False,\n",
              "             warm_start=False)"
            ]
          },
          "metadata": {
            "tags": []
          },
          "execution_count": 46
        }
      ]
    },
    {
      "cell_type": "code",
      "metadata": {
        "colab": {
          "base_uri": "https://localhost:8080/"
        },
        "id": "X4zZnUjOoTXc",
        "outputId": "407e027a-a0a2-4f8c-8fe7-7e8ecbfe64c1"
      },
      "source": [
        "from sklearn.metrics import mean_squared_log_error\n",
        "tst_mlp = np.sqrt(mean_squared_log_error(train_y, mlp.predict(train_X)))\n",
        "tst_mlp_selected = np.sqrt(mean_squared_log_error(train_y, mlp_selected.predict(train_X_selected)))\n",
        "\n",
        "print(f'original feature: {tst_mlp}')\n",
        "print(f'selected feature: {tst_mlp_selected}')"
      ],
      "execution_count": null,
      "outputs": [
        {
          "output_type": "stream",
          "text": [
            "original feature: 0.03917467547827968\n",
            "selected feature: 0.039405488622935796\n"
          ],
          "name": "stdout"
        }
      ]
    },
    {
      "cell_type": "code",
      "metadata": {
        "colab": {
          "base_uri": "https://localhost:8080/",
          "height": 244
        },
        "id": "UziuvJ0HxbWT",
        "outputId": "cf98a14c-07a0-4549-9d42-dff5ae52861f"
      },
      "source": [
        "test_X = pd.read_csv('test_X_1_clean.csv')\n",
        "test_X.head()"
      ],
      "execution_count": null,
      "outputs": [
        {
          "output_type": "execute_result",
          "data": {
            "text/html": [
              "<div>\n",
              "<style scoped>\n",
              "    .dataframe tbody tr th:only-of-type {\n",
              "        vertical-align: middle;\n",
              "    }\n",
              "\n",
              "    .dataframe tbody tr th {\n",
              "        vertical-align: top;\n",
              "    }\n",
              "\n",
              "    .dataframe thead th {\n",
              "        text-align: right;\n",
              "    }\n",
              "</style>\n",
              "<table border=\"1\" class=\"dataframe\">\n",
              "  <thead>\n",
              "    <tr style=\"text-align: right;\">\n",
              "      <th></th>\n",
              "      <th>full_sq</th>\n",
              "      <th>life_sq</th>\n",
              "      <th>floor</th>\n",
              "      <th>max_floor</th>\n",
              "      <th>material</th>\n",
              "      <th>build_year</th>\n",
              "      <th>num_room</th>\n",
              "      <th>kitch_sq</th>\n",
              "      <th>state</th>\n",
              "      <th>product_type</th>\n",
              "      <th>sub_area</th>\n",
              "      <th>area_m</th>\n",
              "      <th>raion_popul</th>\n",
              "      <th>green_zone_part</th>\n",
              "      <th>indust_part</th>\n",
              "      <th>children_preschool</th>\n",
              "      <th>preschool_quota</th>\n",
              "      <th>preschool_education_centers_raion</th>\n",
              "      <th>children_school</th>\n",
              "      <th>school_quota</th>\n",
              "      <th>school_education_centers_raion</th>\n",
              "      <th>school_education_centers_top_20_raion</th>\n",
              "      <th>hospital_beds_raion</th>\n",
              "      <th>healthcare_centers_raion</th>\n",
              "      <th>university_top_20_raion</th>\n",
              "      <th>sport_objects_raion</th>\n",
              "      <th>additional_education_raion</th>\n",
              "      <th>culture_objects_top_25</th>\n",
              "      <th>culture_objects_top_25_raion</th>\n",
              "      <th>shopping_centers_raion</th>\n",
              "      <th>office_raion</th>\n",
              "      <th>thermal_power_plant_raion</th>\n",
              "      <th>incineration_raion</th>\n",
              "      <th>oil_chemistry_raion</th>\n",
              "      <th>radiation_raion</th>\n",
              "      <th>railroad_terminal_raion</th>\n",
              "      <th>big_market_raion</th>\n",
              "      <th>nuclear_reactor_raion</th>\n",
              "      <th>detention_facility_raion</th>\n",
              "      <th>full_all</th>\n",
              "      <th>...</th>\n",
              "      <th>rent_price_3room_eco</th>\n",
              "      <th>rent_price_2room_eco</th>\n",
              "      <th>rent_price_1room_eco</th>\n",
              "      <th>load_of_teachers_preschool_per_teacher</th>\n",
              "      <th>child_on_acc_pre_school</th>\n",
              "      <th>load_of_teachers_school_per_teacher</th>\n",
              "      <th>students_state_oneshift</th>\n",
              "      <th>modern_education_share</th>\n",
              "      <th>old_education_build_share</th>\n",
              "      <th>provision_doctors</th>\n",
              "      <th>provision_nurse</th>\n",
              "      <th>load_on_doctors</th>\n",
              "      <th>power_clinics</th>\n",
              "      <th>hospital_beds_available_per_cap</th>\n",
              "      <th>hospital_bed_occupancy_per_year</th>\n",
              "      <th>provision_retail_space_sqm</th>\n",
              "      <th>provision_retail_space_modern_sqm</th>\n",
              "      <th>turnover_catering_per_cap</th>\n",
              "      <th>theaters_viewers_per_1000_cap</th>\n",
              "      <th>seats_theather_rfmin_per_100000_cap</th>\n",
              "      <th>museum_visitis_per_100_cap</th>\n",
              "      <th>bandwidth_sports</th>\n",
              "      <th>population_reg_sports_share</th>\n",
              "      <th>students_reg_sports_share</th>\n",
              "      <th>apartment_build</th>\n",
              "      <th>apartment_fund_sqm</th>\n",
              "      <th>yearmonth</th>\n",
              "      <th>yearweek</th>\n",
              "      <th>year</th>\n",
              "      <th>month_of_year</th>\n",
              "      <th>week_of_year</th>\n",
              "      <th>day_of_week</th>\n",
              "      <th>ratio_life_full</th>\n",
              "      <th>ratio_kitch_life</th>\n",
              "      <th>ratio_kitch_full</th>\n",
              "      <th>full_live_diff</th>\n",
              "      <th>ratio_floor_max_floor</th>\n",
              "      <th>floor_from_top</th>\n",
              "      <th>age_of_building</th>\n",
              "      <th>apartment_name</th>\n",
              "    </tr>\n",
              "  </thead>\n",
              "  <tbody>\n",
              "    <tr>\n",
              "      <th>0</th>\n",
              "      <td>39.0</td>\n",
              "      <td>20.700</td>\n",
              "      <td>2.0</td>\n",
              "      <td>9.0</td>\n",
              "      <td>1.0</td>\n",
              "      <td>1998.0</td>\n",
              "      <td>1.0</td>\n",
              "      <td>8.9</td>\n",
              "      <td>3.0</td>\n",
              "      <td>0.0</td>\n",
              "      <td>38.0</td>\n",
              "      <td>2.615514e+07</td>\n",
              "      <td>178264.0</td>\n",
              "      <td>0.137846</td>\n",
              "      <td>0.041116</td>\n",
              "      <td>14080.0</td>\n",
              "      <td>11926.0</td>\n",
              "      <td>11.0</td>\n",
              "      <td>14892.0</td>\n",
              "      <td>24750.0</td>\n",
              "      <td>13.0</td>\n",
              "      <td>1.0</td>\n",
              "      <td>1848.2</td>\n",
              "      <td>1.0</td>\n",
              "      <td>0.0</td>\n",
              "      <td>13.0</td>\n",
              "      <td>4.0</td>\n",
              "      <td>0.0</td>\n",
              "      <td>0.0</td>\n",
              "      <td>4.0</td>\n",
              "      <td>4.0</td>\n",
              "      <td>0.0</td>\n",
              "      <td>0.0</td>\n",
              "      <td>0.0</td>\n",
              "      <td>0.0</td>\n",
              "      <td>0.0</td>\n",
              "      <td>0.0</td>\n",
              "      <td>0.0</td>\n",
              "      <td>0.0</td>\n",
              "      <td>102618.0</td>\n",
              "      <td>...</td>\n",
              "      <td>49.35</td>\n",
              "      <td>39.62</td>\n",
              "      <td>30.98</td>\n",
              "      <td>863.394794</td>\n",
              "      <td>5.0</td>\n",
              "      <td>1573.650623</td>\n",
              "      <td>97.8484</td>\n",
              "      <td>2.0</td>\n",
              "      <td>2.0</td>\n",
              "      <td>61.0</td>\n",
              "      <td>90.8</td>\n",
              "      <td>6899.930464</td>\n",
              "      <td>41.9</td>\n",
              "      <td>707.0</td>\n",
              "      <td>286.0</td>\n",
              "      <td>794.0</td>\n",
              "      <td>271.0</td>\n",
              "      <td>10805.0</td>\n",
              "      <td>627.0</td>\n",
              "      <td>0.45888</td>\n",
              "      <td>1440.0</td>\n",
              "      <td>463938.0</td>\n",
              "      <td>28.2</td>\n",
              "      <td>76.2</td>\n",
              "      <td>46080.0</td>\n",
              "      <td>234576.9</td>\n",
              "      <td>201507</td>\n",
              "      <td>201527</td>\n",
              "      <td>2015</td>\n",
              "      <td>7</td>\n",
              "      <td>27</td>\n",
              "      <td>2</td>\n",
              "      <td>0.530769</td>\n",
              "      <td>0.429952</td>\n",
              "      <td>0.228205</td>\n",
              "      <td>18.300</td>\n",
              "      <td>0.222222</td>\n",
              "      <td>7.0</td>\n",
              "      <td>17.000000</td>\n",
              "      <td>0</td>\n",
              "    </tr>\n",
              "    <tr>\n",
              "      <th>1</th>\n",
              "      <td>79.2</td>\n",
              "      <td>49.654</td>\n",
              "      <td>8.0</td>\n",
              "      <td>17.0</td>\n",
              "      <td>1.0</td>\n",
              "      <td>0.0</td>\n",
              "      <td>3.0</td>\n",
              "      <td>1.0</td>\n",
              "      <td>1.0</td>\n",
              "      <td>1.0</td>\n",
              "      <td>102.0</td>\n",
              "      <td>2.553630e+07</td>\n",
              "      <td>4001.0</td>\n",
              "      <td>0.496315</td>\n",
              "      <td>0.007122</td>\n",
              "      <td>275.0</td>\n",
              "      <td>11926.0</td>\n",
              "      <td>0.0</td>\n",
              "      <td>264.0</td>\n",
              "      <td>24750.0</td>\n",
              "      <td>0.0</td>\n",
              "      <td>0.0</td>\n",
              "      <td>2300.0</td>\n",
              "      <td>0.0</td>\n",
              "      <td>0.0</td>\n",
              "      <td>0.0</td>\n",
              "      <td>0.0</td>\n",
              "      <td>0.0</td>\n",
              "      <td>0.0</td>\n",
              "      <td>1.0</td>\n",
              "      <td>0.0</td>\n",
              "      <td>0.0</td>\n",
              "      <td>0.0</td>\n",
              "      <td>0.0</td>\n",
              "      <td>0.0</td>\n",
              "      <td>0.0</td>\n",
              "      <td>0.0</td>\n",
              "      <td>0.0</td>\n",
              "      <td>0.0</td>\n",
              "      <td>17790.0</td>\n",
              "      <td>...</td>\n",
              "      <td>49.35</td>\n",
              "      <td>39.62</td>\n",
              "      <td>30.98</td>\n",
              "      <td>863.394794</td>\n",
              "      <td>5.0</td>\n",
              "      <td>1573.650623</td>\n",
              "      <td>97.8484</td>\n",
              "      <td>2.0</td>\n",
              "      <td>2.0</td>\n",
              "      <td>61.0</td>\n",
              "      <td>90.8</td>\n",
              "      <td>6899.930464</td>\n",
              "      <td>41.9</td>\n",
              "      <td>707.0</td>\n",
              "      <td>286.0</td>\n",
              "      <td>794.0</td>\n",
              "      <td>271.0</td>\n",
              "      <td>10805.0</td>\n",
              "      <td>627.0</td>\n",
              "      <td>0.45888</td>\n",
              "      <td>1440.0</td>\n",
              "      <td>463938.0</td>\n",
              "      <td>28.2</td>\n",
              "      <td>76.2</td>\n",
              "      <td>46080.0</td>\n",
              "      <td>234576.9</td>\n",
              "      <td>201507</td>\n",
              "      <td>201527</td>\n",
              "      <td>2015</td>\n",
              "      <td>7</td>\n",
              "      <td>27</td>\n",
              "      <td>2</td>\n",
              "      <td>0.626944</td>\n",
              "      <td>0.020139</td>\n",
              "      <td>0.012626</td>\n",
              "      <td>29.546</td>\n",
              "      <td>0.470588</td>\n",
              "      <td>9.0</td>\n",
              "      <td>2015.000000</td>\n",
              "      <td>1</td>\n",
              "    </tr>\n",
              "    <tr>\n",
              "      <th>2</th>\n",
              "      <td>40.5</td>\n",
              "      <td>25.100</td>\n",
              "      <td>3.0</td>\n",
              "      <td>5.0</td>\n",
              "      <td>2.0</td>\n",
              "      <td>1960.0</td>\n",
              "      <td>2.0</td>\n",
              "      <td>4.8</td>\n",
              "      <td>2.0</td>\n",
              "      <td>0.0</td>\n",
              "      <td>84.0</td>\n",
              "      <td>9.946335e+06</td>\n",
              "      <td>139322.0</td>\n",
              "      <td>0.065409</td>\n",
              "      <td>0.225825</td>\n",
              "      <td>6400.0</td>\n",
              "      <td>2232.0</td>\n",
              "      <td>7.0</td>\n",
              "      <td>6558.0</td>\n",
              "      <td>7966.0</td>\n",
              "      <td>7.0</td>\n",
              "      <td>0.0</td>\n",
              "      <td>1548.0</td>\n",
              "      <td>3.0</td>\n",
              "      <td>0.0</td>\n",
              "      <td>13.0</td>\n",
              "      <td>0.0</td>\n",
              "      <td>0.0</td>\n",
              "      <td>0.0</td>\n",
              "      <td>2.0</td>\n",
              "      <td>7.0</td>\n",
              "      <td>1.0</td>\n",
              "      <td>0.0</td>\n",
              "      <td>1.0</td>\n",
              "      <td>1.0</td>\n",
              "      <td>0.0</td>\n",
              "      <td>0.0</td>\n",
              "      <td>0.0</td>\n",
              "      <td>0.0</td>\n",
              "      <td>36154.0</td>\n",
              "      <td>...</td>\n",
              "      <td>49.35</td>\n",
              "      <td>39.62</td>\n",
              "      <td>30.98</td>\n",
              "      <td>863.394794</td>\n",
              "      <td>5.0</td>\n",
              "      <td>1573.650623</td>\n",
              "      <td>97.8484</td>\n",
              "      <td>2.0</td>\n",
              "      <td>2.0</td>\n",
              "      <td>61.0</td>\n",
              "      <td>90.8</td>\n",
              "      <td>6899.930464</td>\n",
              "      <td>41.9</td>\n",
              "      <td>707.0</td>\n",
              "      <td>286.0</td>\n",
              "      <td>794.0</td>\n",
              "      <td>271.0</td>\n",
              "      <td>10805.0</td>\n",
              "      <td>627.0</td>\n",
              "      <td>0.45888</td>\n",
              "      <td>1440.0</td>\n",
              "      <td>463938.0</td>\n",
              "      <td>28.2</td>\n",
              "      <td>76.2</td>\n",
              "      <td>46080.0</td>\n",
              "      <td>234576.9</td>\n",
              "      <td>201507</td>\n",
              "      <td>201527</td>\n",
              "      <td>2015</td>\n",
              "      <td>7</td>\n",
              "      <td>27</td>\n",
              "      <td>2</td>\n",
              "      <td>0.619753</td>\n",
              "      <td>0.191235</td>\n",
              "      <td>0.118519</td>\n",
              "      <td>15.400</td>\n",
              "      <td>0.600000</td>\n",
              "      <td>2.0</td>\n",
              "      <td>55.000000</td>\n",
              "      <td>2</td>\n",
              "    </tr>\n",
              "    <tr>\n",
              "      <th>3</th>\n",
              "      <td>62.8</td>\n",
              "      <td>36.000</td>\n",
              "      <td>17.0</td>\n",
              "      <td>17.0</td>\n",
              "      <td>1.0</td>\n",
              "      <td>2016.0</td>\n",
              "      <td>2.0</td>\n",
              "      <td>62.8</td>\n",
              "      <td>3.0</td>\n",
              "      <td>1.0</td>\n",
              "      <td>104.0</td>\n",
              "      <td>2.149409e+07</td>\n",
              "      <td>7122.0</td>\n",
              "      <td>0.262459</td>\n",
              "      <td>0.017647</td>\n",
              "      <td>489.0</td>\n",
              "      <td>903.0</td>\n",
              "      <td>0.0</td>\n",
              "      <td>469.0</td>\n",
              "      <td>7788.0</td>\n",
              "      <td>0.0</td>\n",
              "      <td>0.0</td>\n",
              "      <td>176.0</td>\n",
              "      <td>0.0</td>\n",
              "      <td>0.0</td>\n",
              "      <td>0.0</td>\n",
              "      <td>2.0</td>\n",
              "      <td>0.0</td>\n",
              "      <td>0.0</td>\n",
              "      <td>0.0</td>\n",
              "      <td>0.0</td>\n",
              "      <td>0.0</td>\n",
              "      <td>0.0</td>\n",
              "      <td>0.0</td>\n",
              "      <td>0.0</td>\n",
              "      <td>0.0</td>\n",
              "      <td>0.0</td>\n",
              "      <td>0.0</td>\n",
              "      <td>0.0</td>\n",
              "      <td>9553.0</td>\n",
              "      <td>...</td>\n",
              "      <td>49.35</td>\n",
              "      <td>39.62</td>\n",
              "      <td>30.98</td>\n",
              "      <td>863.394794</td>\n",
              "      <td>5.0</td>\n",
              "      <td>1573.650623</td>\n",
              "      <td>97.8484</td>\n",
              "      <td>2.0</td>\n",
              "      <td>2.0</td>\n",
              "      <td>61.0</td>\n",
              "      <td>90.8</td>\n",
              "      <td>6899.930464</td>\n",
              "      <td>41.9</td>\n",
              "      <td>707.0</td>\n",
              "      <td>286.0</td>\n",
              "      <td>794.0</td>\n",
              "      <td>271.0</td>\n",
              "      <td>10805.0</td>\n",
              "      <td>627.0</td>\n",
              "      <td>0.45888</td>\n",
              "      <td>1440.0</td>\n",
              "      <td>463938.0</td>\n",
              "      <td>28.2</td>\n",
              "      <td>76.2</td>\n",
              "      <td>46080.0</td>\n",
              "      <td>234576.9</td>\n",
              "      <td>201507</td>\n",
              "      <td>201527</td>\n",
              "      <td>2015</td>\n",
              "      <td>7</td>\n",
              "      <td>27</td>\n",
              "      <td>2</td>\n",
              "      <td>0.573248</td>\n",
              "      <td>1.000000</td>\n",
              "      <td>1.000000</td>\n",
              "      <td>26.800</td>\n",
              "      <td>1.000000</td>\n",
              "      <td>0.0</td>\n",
              "      <td>-1053.057097</td>\n",
              "      <td>3</td>\n",
              "    </tr>\n",
              "    <tr>\n",
              "      <th>4</th>\n",
              "      <td>40.0</td>\n",
              "      <td>40.000</td>\n",
              "      <td>17.0</td>\n",
              "      <td>17.0</td>\n",
              "      <td>1.0</td>\n",
              "      <td>0.0</td>\n",
              "      <td>1.0</td>\n",
              "      <td>1.0</td>\n",
              "      <td>1.0</td>\n",
              "      <td>1.0</td>\n",
              "      <td>102.0</td>\n",
              "      <td>2.553630e+07</td>\n",
              "      <td>4001.0</td>\n",
              "      <td>0.496315</td>\n",
              "      <td>0.007122</td>\n",
              "      <td>275.0</td>\n",
              "      <td>11926.0</td>\n",
              "      <td>0.0</td>\n",
              "      <td>264.0</td>\n",
              "      <td>24750.0</td>\n",
              "      <td>0.0</td>\n",
              "      <td>0.0</td>\n",
              "      <td>2300.0</td>\n",
              "      <td>0.0</td>\n",
              "      <td>0.0</td>\n",
              "      <td>0.0</td>\n",
              "      <td>0.0</td>\n",
              "      <td>0.0</td>\n",
              "      <td>0.0</td>\n",
              "      <td>1.0</td>\n",
              "      <td>0.0</td>\n",
              "      <td>0.0</td>\n",
              "      <td>0.0</td>\n",
              "      <td>0.0</td>\n",
              "      <td>0.0</td>\n",
              "      <td>0.0</td>\n",
              "      <td>0.0</td>\n",
              "      <td>0.0</td>\n",
              "      <td>0.0</td>\n",
              "      <td>17790.0</td>\n",
              "      <td>...</td>\n",
              "      <td>49.35</td>\n",
              "      <td>39.62</td>\n",
              "      <td>30.98</td>\n",
              "      <td>863.394794</td>\n",
              "      <td>5.0</td>\n",
              "      <td>1573.650623</td>\n",
              "      <td>97.8484</td>\n",
              "      <td>2.0</td>\n",
              "      <td>2.0</td>\n",
              "      <td>61.0</td>\n",
              "      <td>90.8</td>\n",
              "      <td>6899.930464</td>\n",
              "      <td>41.9</td>\n",
              "      <td>707.0</td>\n",
              "      <td>286.0</td>\n",
              "      <td>794.0</td>\n",
              "      <td>271.0</td>\n",
              "      <td>10805.0</td>\n",
              "      <td>627.0</td>\n",
              "      <td>0.45888</td>\n",
              "      <td>1440.0</td>\n",
              "      <td>463938.0</td>\n",
              "      <td>28.2</td>\n",
              "      <td>76.2</td>\n",
              "      <td>46080.0</td>\n",
              "      <td>234576.9</td>\n",
              "      <td>201507</td>\n",
              "      <td>201527</td>\n",
              "      <td>2015</td>\n",
              "      <td>7</td>\n",
              "      <td>27</td>\n",
              "      <td>2</td>\n",
              "      <td>1.000000</td>\n",
              "      <td>0.025000</td>\n",
              "      <td>0.025000</td>\n",
              "      <td>0.000</td>\n",
              "      <td>1.000000</td>\n",
              "      <td>0.0</td>\n",
              "      <td>2015.000000</td>\n",
              "      <td>4</td>\n",
              "    </tr>\n",
              "  </tbody>\n",
              "</table>\n",
              "<p>5 rows × 404 columns</p>\n",
              "</div>"
            ],
            "text/plain": [
              "   full_sq  life_sq  floor  ...  floor_from_top  age_of_building  apartment_name\n",
              "0     39.0   20.700    2.0  ...             7.0        17.000000               0\n",
              "1     79.2   49.654    8.0  ...             9.0      2015.000000               1\n",
              "2     40.5   25.100    3.0  ...             2.0        55.000000               2\n",
              "3     62.8   36.000   17.0  ...             0.0     -1053.057097               3\n",
              "4     40.0   40.000   17.0  ...             0.0      2015.000000               4\n",
              "\n",
              "[5 rows x 404 columns]"
            ]
          },
          "metadata": {
            "tags": []
          },
          "execution_count": 48
        }
      ]
    },
    {
      "cell_type": "code",
      "metadata": {
        "colab": {
          "base_uri": "https://localhost:8080/"
        },
        "id": "59jaFLJZxuq0",
        "outputId": "1f50e4d9-e0b2-44fb-bf2b-90c19c839924"
      },
      "source": [
        "test_X.shape[0]"
      ],
      "execution_count": null,
      "outputs": [
        {
          "output_type": "execute_result",
          "data": {
            "text/plain": [
              "7662"
            ]
          },
          "metadata": {
            "tags": []
          },
          "execution_count": 50
        }
      ]
    },
    {
      "cell_type": "code",
      "metadata": {
        "colab": {
          "base_uri": "https://localhost:8080/"
        },
        "id": "izVQtlNl4xsP",
        "outputId": "6ab29e16-b26e-439a-d198-6ac967a1b313"
      },
      "source": [
        "print(test_X.isnull().values.any())\n",
        "\n",
        "count = np.isinf(test_X[\"ratio_floor_max_floor\"]).values.sum()\n",
        "print(\"It contains \" + str(count) + \" infinite values\")"
      ],
      "execution_count": null,
      "outputs": [
        {
          "output_type": "stream",
          "text": [
            "False\n",
            "It contains 233 infinite values\n"
          ],
          "name": "stdout"
        }
      ]
    },
    {
      "cell_type": "code",
      "metadata": {
        "id": "DL9sX2yc6iue"
      },
      "source": [
        "test_X = test_X.replace([np.inf, -np.inf], np.nan)\n",
        "test_X = test_X.fillna(0.0)"
      ],
      "execution_count": null,
      "outputs": []
    },
    {
      "cell_type": "code",
      "metadata": {
        "colab": {
          "base_uri": "https://localhost:8080/"
        },
        "id": "wnH-gBmm6wmb",
        "outputId": "b1f70b12-c46d-482f-8193-520b32329db6"
      },
      "source": [
        "print(test_X.isnull().values.any())\n",
        "\n",
        "count = np.isinf(test_X[\"ratio_floor_max_floor\"]).values.sum()\n",
        "print(\"It contains \" + str(count) + \" infinite values\")"
      ],
      "execution_count": null,
      "outputs": [
        {
          "output_type": "stream",
          "text": [
            "False\n",
            "It contains 0 infinite values\n"
          ],
          "name": "stdout"
        }
      ]
    },
    {
      "cell_type": "code",
      "metadata": {
        "id": "3iCJomkZ7ryZ"
      },
      "source": [
        "test_X_selected = test_X[[c for c in test_X.columns if c in features]]"
      ],
      "execution_count": null,
      "outputs": []
    },
    {
      "cell_type": "code",
      "metadata": {
        "colab": {
          "base_uri": "https://localhost:8080/"
        },
        "id": "T6k_3ntkx8FP",
        "outputId": "a5e50a31-433c-4f8e-a418-e81b4d536ab9"
      },
      "source": [
        "prdct = mlp.predict(test_X)\n",
        "prdct"
      ],
      "execution_count": null,
      "outputs": [
        {
          "output_type": "execute_result",
          "data": {
            "text/plain": [
              "array([15.42945121, 15.42945121, 15.50990233, ..., 15.69094436,\n",
              "       15.50990233, 15.69094436])"
            ]
          },
          "metadata": {
            "tags": []
          },
          "execution_count": 73
        }
      ]
    },
    {
      "cell_type": "code",
      "metadata": {
        "colab": {
          "base_uri": "https://localhost:8080/"
        },
        "id": "U7FFk7t678ge",
        "outputId": "9c99ec82-6d32-47b4-a834-99d7566310bb"
      },
      "source": [
        "prdct_selected = mlp_selected.predict(test_X_selected)\n",
        "prdct_selected"
      ],
      "execution_count": null,
      "outputs": [
        {
          "output_type": "execute_result",
          "data": {
            "text/plain": [
              "array([15.53682689, 15.53682689, 15.53682689, ..., 15.7574496 ,\n",
              "       15.66054548, 15.83683119])"
            ]
          },
          "metadata": {
            "tags": []
          },
          "execution_count": 74
        }
      ]
    },
    {
      "cell_type": "code",
      "metadata": {
        "colab": {
          "base_uri": "https://localhost:8080/"
        },
        "id": "_fY-Nt158AeV",
        "outputId": "86d9780c-cfbd-4f4f-9a03-254f1226f357"
      },
      "source": [
        "predict = np.expm1(prdct)\n",
        "predict.reshape(1,7662)"
      ],
      "execution_count": null,
      "outputs": [
        {
          "output_type": "execute_result",
          "data": {
            "text/plain": [
              "array([5022563.44015805, 5022563.44015805, 5443333.17297839, ...,\n",
              "       6523647.47640257, 5443333.17297843, 6523647.47640252])"
            ]
          },
          "metadata": {
            "tags": []
          },
          "execution_count": 95
        }
      ]
    },
    {
      "cell_type": "code",
      "metadata": {
        "colab": {
          "base_uri": "https://localhost:8080/"
        },
        "id": "zRPlsP1h8eCH",
        "outputId": "914be2d4-44b9-40c4-a278-5ec63c592065"
      },
      "source": [
        "predict_selected = np.expm1(prdct_selected)\n",
        "predict_selected\n"
      ],
      "execution_count": null,
      "outputs": [
        {
          "output_type": "execute_result",
          "data": {
            "text/plain": [
              "array([5591883.42626988, 5591883.42626988, 5591883.42626988, ...,\n",
              "       6972256.33789628, 6328319.80470936, 7548285.86881576])"
            ]
          },
          "metadata": {
            "tags": []
          },
          "execution_count": 76
        }
      ]
    },
    {
      "cell_type": "code",
      "metadata": {
        "colab": {
          "base_uri": "https://localhost:8080/"
        },
        "id": "afjuwnsc2EAM",
        "outputId": "d0e5fe61-c779-44bd-9a29-c7e0bab6da5f"
      },
      "source": [
        "id = np.arange(30474,38136,1)\n",
        "id.reshape(1,7662)"
      ],
      "execution_count": null,
      "outputs": [
        {
          "output_type": "execute_result",
          "data": {
            "text/plain": [
              "array([[30474, 30475, 30476, ..., 38133, 38134, 38135]])"
            ]
          },
          "metadata": {
            "tags": []
          },
          "execution_count": 113
        }
      ]
    },
    {
      "cell_type": "code",
      "metadata": {
        "id": "uoBBpCHg2T8D"
      },
      "source": [
        "submission = np.column_stack((id, predict))\n",
        "submission_selected = np.column_stack((id, predict_selected))"
      ],
      "execution_count": null,
      "outputs": []
    },
    {
      "cell_type": "code",
      "metadata": {
        "colab": {
          "base_uri": "https://localhost:8080/"
        },
        "id": "ieX6zzrI_7b3",
        "outputId": "1704c4a0-ede1-44b8-f982-5acef1f2017f"
      },
      "source": [
        "submission"
      ],
      "execution_count": null,
      "outputs": [
        {
          "output_type": "execute_result",
          "data": {
            "text/plain": [
              "array([[  30474.        , 5022563.44015805],\n",
              "       [  30475.        , 5022563.44015805],\n",
              "       [  30476.        , 5443333.17297839],\n",
              "       ...,\n",
              "       [  38133.        , 6523647.47640257],\n",
              "       [  38134.        , 5443333.17297843],\n",
              "       [  38135.        , 6523647.47640252]])"
            ]
          },
          "metadata": {
            "tags": []
          },
          "execution_count": 118
        }
      ]
    },
    {
      "cell_type": "code",
      "metadata": {
        "colab": {
          "base_uri": "https://localhost:8080/"
        },
        "id": "yn4Dc7vHCXIt",
        "outputId": "2df9cb3c-baf8-4b95-d5ca-70c313d0aca0"
      },
      "source": [
        "submission_selected"
      ],
      "execution_count": null,
      "outputs": [
        {
          "output_type": "execute_result",
          "data": {
            "text/plain": [
              "array([[  30474.        , 5591883.42626988],\n",
              "       [  30475.        , 5591883.42626988],\n",
              "       [  30476.        , 5591883.42626988],\n",
              "       ...,\n",
              "       [  38133.        , 6972256.33789628],\n",
              "       [  38134.        , 6328319.80470936],\n",
              "       [  38135.        , 7548285.86881576]])"
            ]
          },
          "metadata": {
            "tags": []
          },
          "execution_count": 119
        }
      ]
    },
    {
      "cell_type": "code",
      "metadata": {
        "colab": {
          "base_uri": "https://localhost:8080/",
          "height": 195
        },
        "id": "SnvVcFXEACrz",
        "outputId": "3362eb5d-bb8e-4d37-8e83-33a020d9681c"
      },
      "source": [
        "df = pd.DataFrame(data=submission, columns=[\"id\", \"price_doc\"])\n",
        "df['id'] = df['id'].astype('int64')\n",
        "df.head()"
      ],
      "execution_count": null,
      "outputs": [
        {
          "output_type": "execute_result",
          "data": {
            "text/html": [
              "<div>\n",
              "<style scoped>\n",
              "    .dataframe tbody tr th:only-of-type {\n",
              "        vertical-align: middle;\n",
              "    }\n",
              "\n",
              "    .dataframe tbody tr th {\n",
              "        vertical-align: top;\n",
              "    }\n",
              "\n",
              "    .dataframe thead th {\n",
              "        text-align: right;\n",
              "    }\n",
              "</style>\n",
              "<table border=\"1\" class=\"dataframe\">\n",
              "  <thead>\n",
              "    <tr style=\"text-align: right;\">\n",
              "      <th></th>\n",
              "      <th>id</th>\n",
              "      <th>price_doc</th>\n",
              "    </tr>\n",
              "  </thead>\n",
              "  <tbody>\n",
              "    <tr>\n",
              "      <th>0</th>\n",
              "      <td>30474</td>\n",
              "      <td>5.022563e+06</td>\n",
              "    </tr>\n",
              "    <tr>\n",
              "      <th>1</th>\n",
              "      <td>30475</td>\n",
              "      <td>5.022563e+06</td>\n",
              "    </tr>\n",
              "    <tr>\n",
              "      <th>2</th>\n",
              "      <td>30476</td>\n",
              "      <td>5.443333e+06</td>\n",
              "    </tr>\n",
              "    <tr>\n",
              "      <th>3</th>\n",
              "      <td>30477</td>\n",
              "      <td>5.008446e+06</td>\n",
              "    </tr>\n",
              "    <tr>\n",
              "      <th>4</th>\n",
              "      <td>30478</td>\n",
              "      <td>5.022563e+06</td>\n",
              "    </tr>\n",
              "  </tbody>\n",
              "</table>\n",
              "</div>"
            ],
            "text/plain": [
              "      id     price_doc\n",
              "0  30474  5.022563e+06\n",
              "1  30475  5.022563e+06\n",
              "2  30476  5.443333e+06\n",
              "3  30477  5.008446e+06\n",
              "4  30478  5.022563e+06"
            ]
          },
          "metadata": {
            "tags": []
          },
          "execution_count": 122
        }
      ]
    },
    {
      "cell_type": "code",
      "metadata": {
        "colab": {
          "base_uri": "https://localhost:8080/",
          "height": 195
        },
        "id": "F1oQkqLwCon6",
        "outputId": "9dc65e15-da47-4c07-cc10-1b0363309545"
      },
      "source": [
        "df_selected = pd.DataFrame(data=submission_selected, columns=[\"id\", \"price_doc\"])\n",
        "df_selected['id'] = df_selected['id'].astype('int64')\n",
        "df_selected.head()"
      ],
      "execution_count": null,
      "outputs": [
        {
          "output_type": "execute_result",
          "data": {
            "text/html": [
              "<div>\n",
              "<style scoped>\n",
              "    .dataframe tbody tr th:only-of-type {\n",
              "        vertical-align: middle;\n",
              "    }\n",
              "\n",
              "    .dataframe tbody tr th {\n",
              "        vertical-align: top;\n",
              "    }\n",
              "\n",
              "    .dataframe thead th {\n",
              "        text-align: right;\n",
              "    }\n",
              "</style>\n",
              "<table border=\"1\" class=\"dataframe\">\n",
              "  <thead>\n",
              "    <tr style=\"text-align: right;\">\n",
              "      <th></th>\n",
              "      <th>id</th>\n",
              "      <th>price_doc</th>\n",
              "    </tr>\n",
              "  </thead>\n",
              "  <tbody>\n",
              "    <tr>\n",
              "      <th>0</th>\n",
              "      <td>30474</td>\n",
              "      <td>5.591883e+06</td>\n",
              "    </tr>\n",
              "    <tr>\n",
              "      <th>1</th>\n",
              "      <td>30475</td>\n",
              "      <td>5.591883e+06</td>\n",
              "    </tr>\n",
              "    <tr>\n",
              "      <th>2</th>\n",
              "      <td>30476</td>\n",
              "      <td>5.591883e+06</td>\n",
              "    </tr>\n",
              "    <tr>\n",
              "      <th>3</th>\n",
              "      <td>30477</td>\n",
              "      <td>5.591883e+06</td>\n",
              "    </tr>\n",
              "    <tr>\n",
              "      <th>4</th>\n",
              "      <td>30478</td>\n",
              "      <td>5.591883e+06</td>\n",
              "    </tr>\n",
              "  </tbody>\n",
              "</table>\n",
              "</div>"
            ],
            "text/plain": [
              "      id     price_doc\n",
              "0  30474  5.591883e+06\n",
              "1  30475  5.591883e+06\n",
              "2  30476  5.591883e+06\n",
              "3  30477  5.591883e+06\n",
              "4  30478  5.591883e+06"
            ]
          },
          "metadata": {
            "tags": []
          },
          "execution_count": 123
        }
      ]
    },
    {
      "cell_type": "code",
      "metadata": {
        "id": "DcKvvqniyyS9"
      },
      "source": [
        "# save result\n",
        "if not os.path.exists('predict'):\n",
        "    os.makedirs('predict')\n",
        "df.to_csv('predict/mlp_predict.csv', index=False)\n",
        "df_selected.to_csv('predict/mlp_selected_predict.csv', index=False)"
      ],
      "execution_count": null,
      "outputs": []
    }
  ]
}